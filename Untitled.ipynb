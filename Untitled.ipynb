{
 "cells": [
  {
   "cell_type": "code",
   "execution_count": 1,
   "id": "07f5171e-08f4-42fd-9571-e332b716b006",
   "metadata": {},
   "outputs": [],
   "source": [
    "import pandas as pd\n",
    "import numpy as np\n",
    "import matplotlib.pyplot as plt\n",
    "import seaborn as sns\n",
    "import copy"
   ]
  },
  {
   "cell_type": "code",
   "execution_count": 2,
   "id": "10234b88-42bf-4f83-b69c-d70116cbbc2f",
   "metadata": {},
   "outputs": [],
   "source": [
    "train = pd.read_csv(\"train.csv\")"
   ]
  },
  {
   "cell_type": "code",
   "execution_count": 3,
   "id": "9adf506f-a4d3-48b7-82a1-8a10a6519909",
   "metadata": {},
   "outputs": [
    {
     "data": {
      "text/html": [
       "<div>\n",
       "<style scoped>\n",
       "    .dataframe tbody tr th:only-of-type {\n",
       "        vertical-align: middle;\n",
       "    }\n",
       "\n",
       "    .dataframe tbody tr th {\n",
       "        vertical-align: top;\n",
       "    }\n",
       "\n",
       "    .dataframe thead th {\n",
       "        text-align: right;\n",
       "    }\n",
       "</style>\n",
       "<table border=\"1\" class=\"dataframe\">\n",
       "  <thead>\n",
       "    <tr style=\"text-align: right;\">\n",
       "      <th></th>\n",
       "      <th>week_start_date</th>\n",
       "      <th>expected_rainfall</th>\n",
       "      <th>freezer_status</th>\n",
       "      <th>outlet_region</th>\n",
       "      <th>outlet_code</th>\n",
       "      <th>sales_quantity</th>\n",
       "    </tr>\n",
       "  </thead>\n",
       "  <tbody>\n",
       "    <tr>\n",
       "      <th>0</th>\n",
       "      <td>5/22/2023</td>\n",
       "      <td>57mm</td>\n",
       "      <td>freezers available</td>\n",
       "      <td>outstation</td>\n",
       "      <td>outlet_code_3254</td>\n",
       "      <td>95</td>\n",
       "    </tr>\n",
       "    <tr>\n",
       "      <th>1</th>\n",
       "      <td>5/29/2023</td>\n",
       "      <td>8mm</td>\n",
       "      <td>freezers available</td>\n",
       "      <td>outstation</td>\n",
       "      <td>outlet_code_1859</td>\n",
       "      <td>107</td>\n",
       "    </tr>\n",
       "    <tr>\n",
       "      <th>2</th>\n",
       "      <td>5/8/2023</td>\n",
       "      <td>170.57mm</td>\n",
       "      <td>freezers available</td>\n",
       "      <td>outstation</td>\n",
       "      <td>outlet_code_4176</td>\n",
       "      <td>83</td>\n",
       "    </tr>\n",
       "    <tr>\n",
       "      <th>3</th>\n",
       "      <td>5/22/2023</td>\n",
       "      <td>37mm</td>\n",
       "      <td>freezers available</td>\n",
       "      <td>outstation</td>\n",
       "      <td>outlet_code_1459</td>\n",
       "      <td>106</td>\n",
       "    </tr>\n",
       "    <tr>\n",
       "      <th>4</th>\n",
       "      <td>3/27/2023</td>\n",
       "      <td>7mm</td>\n",
       "      <td>freezers available</td>\n",
       "      <td>outstation</td>\n",
       "      <td>outlet_code_38</td>\n",
       "      <td>43</td>\n",
       "    </tr>\n",
       "  </tbody>\n",
       "</table>\n",
       "</div>"
      ],
      "text/plain": [
       "  week_start_date expected_rainfall         freezer_status outlet_region  \\\n",
       "0       5/22/2023              57mm    freezers available     outstation   \n",
       "1       5/29/2023               8mm    freezers available     outstation   \n",
       "2        5/8/2023          170.57mm    freezers available     outstation   \n",
       "3       5/22/2023              37mm    freezers available     outstation   \n",
       "4       3/27/2023               7mm    freezers available     outstation   \n",
       "\n",
       "        outlet_code  sales_quantity  \n",
       "0  outlet_code_3254              95  \n",
       "1  outlet_code_1859             107  \n",
       "2  outlet_code_4176              83  \n",
       "3  outlet_code_1459             106  \n",
       "4    outlet_code_38              43  "
      ]
     },
     "execution_count": 3,
     "metadata": {},
     "output_type": "execute_result"
    }
   ],
   "source": [
    "train.head()"
   ]
  },
  {
   "cell_type": "code",
   "execution_count": 4,
   "id": "3794682a-62ec-45ed-9d6b-59206dbf8169",
   "metadata": {},
   "outputs": [
    {
     "data": {
      "text/plain": [
       "(113400, 6)"
      ]
     },
     "execution_count": 4,
     "metadata": {},
     "output_type": "execute_result"
    }
   ],
   "source": [
    "train.shape"
   ]
  },
  {
   "cell_type": "code",
   "execution_count": 5,
   "id": "a284b493-01ba-410f-b692-5b260c4572d5",
   "metadata": {},
   "outputs": [],
   "source": [
    "df = train.copy()"
   ]
  },
  {
   "cell_type": "code",
   "execution_count": 6,
   "id": "3ba702c8-3ed2-43ba-ac3b-905fda788de6",
   "metadata": {},
   "outputs": [
    {
     "data": {
      "text/html": [
       "<div>\n",
       "<style scoped>\n",
       "    .dataframe tbody tr th:only-of-type {\n",
       "        vertical-align: middle;\n",
       "    }\n",
       "\n",
       "    .dataframe tbody tr th {\n",
       "        vertical-align: top;\n",
       "    }\n",
       "\n",
       "    .dataframe thead th {\n",
       "        text-align: right;\n",
       "    }\n",
       "</style>\n",
       "<table border=\"1\" class=\"dataframe\">\n",
       "  <thead>\n",
       "    <tr style=\"text-align: right;\">\n",
       "      <th></th>\n",
       "      <th>week_start_date</th>\n",
       "      <th>expected_rainfall</th>\n",
       "      <th>freezer_status</th>\n",
       "      <th>outlet_region</th>\n",
       "      <th>outlet_code</th>\n",
       "      <th>sales_quantity</th>\n",
       "    </tr>\n",
       "  </thead>\n",
       "  <tbody>\n",
       "    <tr>\n",
       "      <th>0</th>\n",
       "      <td>5/22/2023</td>\n",
       "      <td>57mm</td>\n",
       "      <td>freezers available</td>\n",
       "      <td>outstation</td>\n",
       "      <td>outlet_code_3254</td>\n",
       "      <td>95</td>\n",
       "    </tr>\n",
       "    <tr>\n",
       "      <th>1</th>\n",
       "      <td>5/29/2023</td>\n",
       "      <td>8mm</td>\n",
       "      <td>freezers available</td>\n",
       "      <td>outstation</td>\n",
       "      <td>outlet_code_1859</td>\n",
       "      <td>107</td>\n",
       "    </tr>\n",
       "    <tr>\n",
       "      <th>2</th>\n",
       "      <td>5/8/2023</td>\n",
       "      <td>170.57mm</td>\n",
       "      <td>freezers available</td>\n",
       "      <td>outstation</td>\n",
       "      <td>outlet_code_4176</td>\n",
       "      <td>83</td>\n",
       "    </tr>\n",
       "    <tr>\n",
       "      <th>3</th>\n",
       "      <td>5/22/2023</td>\n",
       "      <td>37mm</td>\n",
       "      <td>freezers available</td>\n",
       "      <td>outstation</td>\n",
       "      <td>outlet_code_1459</td>\n",
       "      <td>106</td>\n",
       "    </tr>\n",
       "    <tr>\n",
       "      <th>4</th>\n",
       "      <td>3/27/2023</td>\n",
       "      <td>7mm</td>\n",
       "      <td>freezers available</td>\n",
       "      <td>outstation</td>\n",
       "      <td>outlet_code_38</td>\n",
       "      <td>43</td>\n",
       "    </tr>\n",
       "    <tr>\n",
       "      <th>...</th>\n",
       "      <td>...</td>\n",
       "      <td>...</td>\n",
       "      <td>...</td>\n",
       "      <td>...</td>\n",
       "      <td>...</td>\n",
       "      <td>...</td>\n",
       "    </tr>\n",
       "    <tr>\n",
       "      <th>113395</th>\n",
       "      <td>4/24/2023</td>\n",
       "      <td>61mm</td>\n",
       "      <td>freezers available</td>\n",
       "      <td>western</td>\n",
       "      <td>outlet_code_2946</td>\n",
       "      <td>27</td>\n",
       "    </tr>\n",
       "    <tr>\n",
       "      <th>113396</th>\n",
       "      <td>2/20/2023</td>\n",
       "      <td>10mm</td>\n",
       "      <td>freezers available</td>\n",
       "      <td>western</td>\n",
       "      <td>outlet_code_3671</td>\n",
       "      <td>36</td>\n",
       "    </tr>\n",
       "    <tr>\n",
       "      <th>113397</th>\n",
       "      <td>6/5/2023</td>\n",
       "      <td>98.28mm</td>\n",
       "      <td>freezers available</td>\n",
       "      <td>western</td>\n",
       "      <td>outlet_code_3671</td>\n",
       "      <td>76</td>\n",
       "    </tr>\n",
       "    <tr>\n",
       "      <th>113398</th>\n",
       "      <td>6/5/2023</td>\n",
       "      <td>120.46mm</td>\n",
       "      <td>freezers available</td>\n",
       "      <td>western</td>\n",
       "      <td>outlet_code_2618</td>\n",
       "      <td>76</td>\n",
       "    </tr>\n",
       "    <tr>\n",
       "      <th>113399</th>\n",
       "      <td>5/1/2023</td>\n",
       "      <td>48mm</td>\n",
       "      <td>freezers available</td>\n",
       "      <td>western</td>\n",
       "      <td>outlet_code_1163</td>\n",
       "      <td>30</td>\n",
       "    </tr>\n",
       "  </tbody>\n",
       "</table>\n",
       "<p>113400 rows × 6 columns</p>\n",
       "</div>"
      ],
      "text/plain": [
       "       week_start_date expected_rainfall         freezer_status outlet_region  \\\n",
       "0            5/22/2023              57mm    freezers available     outstation   \n",
       "1            5/29/2023               8mm    freezers available     outstation   \n",
       "2             5/8/2023          170.57mm    freezers available     outstation   \n",
       "3            5/22/2023              37mm    freezers available     outstation   \n",
       "4            3/27/2023               7mm    freezers available     outstation   \n",
       "...                ...               ...                    ...           ...   \n",
       "113395       4/24/2023              61mm    freezers available        western   \n",
       "113396       2/20/2023              10mm    freezers available        western   \n",
       "113397        6/5/2023           98.28mm    freezers available        western   \n",
       "113398        6/5/2023          120.46mm    freezers available        western   \n",
       "113399        5/1/2023              48mm    freezers available        western   \n",
       "\n",
       "             outlet_code  sales_quantity  \n",
       "0       outlet_code_3254              95  \n",
       "1       outlet_code_1859             107  \n",
       "2       outlet_code_4176              83  \n",
       "3       outlet_code_1459             106  \n",
       "4         outlet_code_38              43  \n",
       "...                  ...             ...  \n",
       "113395  outlet_code_2946              27  \n",
       "113396  outlet_code_3671              36  \n",
       "113397  outlet_code_3671              76  \n",
       "113398  outlet_code_2618              76  \n",
       "113399  outlet_code_1163              30  \n",
       "\n",
       "[113400 rows x 6 columns]"
      ]
     },
     "execution_count": 6,
     "metadata": {},
     "output_type": "execute_result"
    }
   ],
   "source": [
    "df"
   ]
  },
  {
   "cell_type": "code",
   "execution_count": 7,
   "id": "e93c3974-c836-4628-9212-51a123fde496",
   "metadata": {},
   "outputs": [],
   "source": [
    "df = train.set_index('week_start_date')"
   ]
  },
  {
   "cell_type": "code",
   "execution_count": 8,
   "id": "f9814d4d-8380-4817-963e-ff4c4082e590",
   "metadata": {},
   "outputs": [],
   "source": [
    "df.index = pd.to_datetime(df.index)"
   ]
  },
  {
   "cell_type": "code",
   "execution_count": 9,
   "id": "9ce4870a-8c74-4f54-a0c6-17409ca25b5d",
   "metadata": {},
   "outputs": [
    {
     "data": {
      "text/plain": [
       "<Axes: xlabel='week_start_date'>"
      ]
     },
     "execution_count": 9,
     "metadata": {},
     "output_type": "execute_result"
    },
    {
     "data": {
      "image/png": "[encoded data removed]",
      "text/plain": [
       "<Figure size 640x480 with 1 Axes>"
      ]
     },
     "metadata": {},
     "output_type": "display_data"
    }
   ],
   "source": [
    "sns.lineplot(df[df.outlet_code==\"outlet_code_4\"])"
   ]
  },
  {
   "cell_type": "code",
   "execution_count": 10,
   "id": "9af7199d-b39b-46da-ac0f-3bf7b500b058",
   "metadata": {},
   "outputs": [
    {
     "data": {
      "text/plain": [
       "outlet_region\n",
       "outstation    54000\n",
       "western       40500\n",
       "upcountry     18900\n",
       "Name: count, dtype: int64"
      ]
     },
     "execution_count": 10,
     "metadata": {},
     "output_type": "execute_result"
    }
   ],
   "source": [
    "df.outlet_region.value_counts()"
   ]
  },
  {
   "cell_type": "code",
   "execution_count": 11,
   "id": "186907b3-e5da-400e-915c-225232fb38c5",
   "metadata": {},
   "outputs": [
    {
     "data": {
      "text/plain": [
       "outlet_code\n",
       "outlet_code_3254    27\n",
       "outlet_code_1374    27\n",
       "outlet_code_457     27\n",
       "outlet_code_1709    27\n",
       "outlet_code_1431    27\n",
       "                    ..\n",
       "outlet_code_4099    27\n",
       "outlet_code_3445    27\n",
       "outlet_code_3879    27\n",
       "outlet_code_1957    27\n",
       "outlet_code_3606    27\n",
       "Name: count, Length: 4200, dtype: int64"
      ]
     },
     "execution_count": 11,
     "metadata": {},
     "output_type": "execute_result"
    }
   ],
   "source": [
    "df.outlet_code.value_counts()"
   ]
  },
  {
   "cell_type": "code",
   "execution_count": 12,
   "id": "6ab96091-4d25-44fc-8d40-fe00889d6b16",
   "metadata": {},
   "outputs": [
    {
     "data": {
      "text/plain": [
       "Timedelta('26 days 00:00:00')"
      ]
     },
     "execution_count": 12,
     "metadata": {},
     "output_type": "execute_result"
    }
   ],
   "source": [
    "(df.index.max() - df.index.min())/7"
   ]
  },
  {
   "cell_type": "code",
   "execution_count": 13,
   "id": "40b5cbbd-4d2c-4348-b5e8-696dc9eed46a",
   "metadata": {},
   "outputs": [
    {
     "data": {
      "text/plain": [
       "<Axes: xlabel='week_start_date', ylabel='sales_quantity'>"
      ]
     },
     "execution_count": 13,
     "metadata": {},
     "output_type": "execute_result"
    },
    {
     "data": {
      "image/png": "[encoded data removed]",
      "text/plain": [
       "<Figure size 640x480 with 1 Axes>"
      ]
     },
     "metadata": {},
     "output_type": "display_data"
    }
   ],
   "source": [
    "sns.lineplot(df[\"sales_quantity\"])"
   ]
  },
  {
   "cell_type": "code",
   "execution_count": 14,
   "id": "2a9f5840-5fef-4f75-a3df-f766624bd9a2",
   "metadata": {},
   "outputs": [],
   "source": [
    "df.expected_rainfall = [float(i.replace(\"mm\", \"\")) for i in df.expected_rainfall]"
   ]
  },
  {
   "cell_type": "code",
   "execution_count": 15,
   "id": "6b407eab-01d5-4d02-92b1-53b3ebc42d31",
   "metadata": {},
   "outputs": [],
   "source": [
    "df[\"week_number\"] = df.index.isocalendar().week"
   ]
  },
  {
   "cell_type": "code",
   "execution_count": 16,
   "id": "4924fd25-87ff-455a-baa0-20cea79b62c8",
   "metadata": {},
   "outputs": [],
   "source": [
    "df.week_number = df.week_number.astype(int)"
   ]
  },
  {
   "cell_type": "code",
   "execution_count": 17,
   "id": "b35a5023-6466-4481-a815-c71dcd7c854e",
   "metadata": {},
   "outputs": [
    {
     "data": {
      "text/plain": [
       "expected_rainfall    float64\n",
       "freezer_status        object\n",
       "outlet_region         object\n",
       "outlet_code           object\n",
       "sales_quantity         int64\n",
       "week_number            int32\n",
       "dtype: object"
      ]
     },
     "execution_count": 17,
     "metadata": {},
     "output_type": "execute_result"
    }
   ],
   "source": [
    "df.dtypes"
   ]
  },
  {
   "cell_type": "code",
   "execution_count": 18,
   "id": "e2c56d6d-a2eb-447f-8344-8e61e1211012",
   "metadata": {},
   "outputs": [],
   "source": [
    "df[\"month\"] = df.index.month"
   ]
  },
  {
   "cell_type": "code",
   "execution_count": 19,
   "id": "d8740fa8-bf7c-4871-82a6-23b063aa024a",
   "metadata": {},
   "outputs": [],
   "source": [
    "k = df.groupby([\"week_number\"])[\"expected_rainfall\"].mean()\n",
    "rainy_weeks = k[k>100].index\n",
    "df[\"rain_spikes\"] = df.week_number.apply(lambda x: 1 if x in rainy_weeks else 0)"
   ]
  },
  {
   "cell_type": "code",
   "execution_count": 20,
   "id": "c1de7ec8-98e8-407e-aafa-4e0a4829d5e2",
   "metadata": {},
   "outputs": [
    {
     "data": {
      "text/html": [
       "<div>\n",
       "<style scoped>\n",
       "    .dataframe tbody tr th:only-of-type {\n",
       "        vertical-align: middle;\n",
       "    }\n",
       "\n",
       "    .dataframe tbody tr th {\n",
       "        vertical-align: top;\n",
       "    }\n",
       "\n",
       "    .dataframe thead th {\n",
       "        text-align: right;\n",
       "    }\n",
       "</style>\n",
       "<table border=\"1\" class=\"dataframe\">\n",
       "  <thead>\n",
       "    <tr style=\"text-align: right;\">\n",
       "      <th></th>\n",
       "      <th>expected_rainfall</th>\n",
       "      <th>freezer_status</th>\n",
       "      <th>outlet_region</th>\n",
       "      <th>outlet_code</th>\n",
       "      <th>sales_quantity</th>\n",
       "      <th>week_number</th>\n",
       "      <th>month</th>\n",
       "      <th>rain_spikes</th>\n",
       "    </tr>\n",
       "    <tr>\n",
       "      <th>week_start_date</th>\n",
       "      <th></th>\n",
       "      <th></th>\n",
       "      <th></th>\n",
       "      <th></th>\n",
       "      <th></th>\n",
       "      <th></th>\n",
       "      <th></th>\n",
       "      <th></th>\n",
       "    </tr>\n",
       "  </thead>\n",
       "  <tbody>\n",
       "    <tr>\n",
       "      <th>2023-05-22</th>\n",
       "      <td>57.00</td>\n",
       "      <td>freezers available</td>\n",
       "      <td>outstation</td>\n",
       "      <td>outlet_code_3254</td>\n",
       "      <td>95</td>\n",
       "      <td>21</td>\n",
       "      <td>5</td>\n",
       "      <td>0</td>\n",
       "    </tr>\n",
       "    <tr>\n",
       "      <th>2023-05-29</th>\n",
       "      <td>8.00</td>\n",
       "      <td>freezers available</td>\n",
       "      <td>outstation</td>\n",
       "      <td>outlet_code_1859</td>\n",
       "      <td>107</td>\n",
       "      <td>22</td>\n",
       "      <td>5</td>\n",
       "      <td>0</td>\n",
       "    </tr>\n",
       "    <tr>\n",
       "      <th>2023-05-08</th>\n",
       "      <td>170.57</td>\n",
       "      <td>freezers available</td>\n",
       "      <td>outstation</td>\n",
       "      <td>outlet_code_4176</td>\n",
       "      <td>83</td>\n",
       "      <td>19</td>\n",
       "      <td>5</td>\n",
       "      <td>1</td>\n",
       "    </tr>\n",
       "    <tr>\n",
       "      <th>2023-05-22</th>\n",
       "      <td>37.00</td>\n",
       "      <td>freezers available</td>\n",
       "      <td>outstation</td>\n",
       "      <td>outlet_code_1459</td>\n",
       "      <td>106</td>\n",
       "      <td>21</td>\n",
       "      <td>5</td>\n",
       "      <td>0</td>\n",
       "    </tr>\n",
       "    <tr>\n",
       "      <th>2023-03-27</th>\n",
       "      <td>7.00</td>\n",
       "      <td>freezers available</td>\n",
       "      <td>outstation</td>\n",
       "      <td>outlet_code_38</td>\n",
       "      <td>43</td>\n",
       "      <td>13</td>\n",
       "      <td>3</td>\n",
       "      <td>0</td>\n",
       "    </tr>\n",
       "    <tr>\n",
       "      <th>...</th>\n",
       "      <td>...</td>\n",
       "      <td>...</td>\n",
       "      <td>...</td>\n",
       "      <td>...</td>\n",
       "      <td>...</td>\n",
       "      <td>...</td>\n",
       "      <td>...</td>\n",
       "      <td>...</td>\n",
       "    </tr>\n",
       "    <tr>\n",
       "      <th>2023-04-24</th>\n",
       "      <td>61.00</td>\n",
       "      <td>freezers available</td>\n",
       "      <td>western</td>\n",
       "      <td>outlet_code_2946</td>\n",
       "      <td>27</td>\n",
       "      <td>17</td>\n",
       "      <td>4</td>\n",
       "      <td>0</td>\n",
       "    </tr>\n",
       "    <tr>\n",
       "      <th>2023-02-20</th>\n",
       "      <td>10.00</td>\n",
       "      <td>freezers available</td>\n",
       "      <td>western</td>\n",
       "      <td>outlet_code_3671</td>\n",
       "      <td>36</td>\n",
       "      <td>8</td>\n",
       "      <td>2</td>\n",
       "      <td>0</td>\n",
       "    </tr>\n",
       "    <tr>\n",
       "      <th>2023-06-05</th>\n",
       "      <td>98.28</td>\n",
       "      <td>freezers available</td>\n",
       "      <td>western</td>\n",
       "      <td>outlet_code_3671</td>\n",
       "      <td>76</td>\n",
       "      <td>23</td>\n",
       "      <td>6</td>\n",
       "      <td>1</td>\n",
       "    </tr>\n",
       "    <tr>\n",
       "      <th>2023-06-05</th>\n",
       "      <td>120.46</td>\n",
       "      <td>freezers available</td>\n",
       "      <td>western</td>\n",
       "      <td>outlet_code_2618</td>\n",
       "      <td>76</td>\n",
       "      <td>23</td>\n",
       "      <td>6</td>\n",
       "      <td>1</td>\n",
       "    </tr>\n",
       "    <tr>\n",
       "      <th>2023-05-01</th>\n",
       "      <td>48.00</td>\n",
       "      <td>freezers available</td>\n",
       "      <td>western</td>\n",
       "      <td>outlet_code_1163</td>\n",
       "      <td>30</td>\n",
       "      <td>18</td>\n",
       "      <td>5</td>\n",
       "      <td>0</td>\n",
       "    </tr>\n",
       "  </tbody>\n",
       "</table>\n",
       "<p>113400 rows × 8 columns</p>\n",
       "</div>"
      ],
      "text/plain": [
       "                 expected_rainfall         freezer_status outlet_region  \\\n",
       "week_start_date                                                           \n",
       "2023-05-22                   57.00    freezers available     outstation   \n",
       "2023-05-29                    8.00    freezers available     outstation   \n",
       "2023-05-08                  170.57    freezers available     outstation   \n",
       "2023-05-22                   37.00    freezers available     outstation   \n",
       "2023-03-27                    7.00    freezers available     outstation   \n",
       "...                            ...                    ...           ...   \n",
       "2023-04-24                   61.00    freezers available        western   \n",
       "2023-02-20                   10.00    freezers available        western   \n",
       "2023-06-05                   98.28    freezers available        western   \n",
       "2023-06-05                  120.46    freezers available        western   \n",
       "2023-05-01                   48.00    freezers available        western   \n",
       "\n",
       "                      outlet_code  sales_quantity  week_number  month  \\\n",
       "week_start_date                                                         \n",
       "2023-05-22       outlet_code_3254              95           21      5   \n",
       "2023-05-29       outlet_code_1859             107           22      5   \n",
       "2023-05-08       outlet_code_4176              83           19      5   \n",
       "2023-05-22       outlet_code_1459             106           21      5   \n",
       "2023-03-27         outlet_code_38              43           13      3   \n",
       "...                           ...             ...          ...    ...   \n",
       "2023-04-24       outlet_code_2946              27           17      4   \n",
       "2023-02-20       outlet_code_3671              36            8      2   \n",
       "2023-06-05       outlet_code_3671              76           23      6   \n",
       "2023-06-05       outlet_code_2618              76           23      6   \n",
       "2023-05-01       outlet_code_1163              30           18      5   \n",
       "\n",
       "                 rain_spikes  \n",
       "week_start_date               \n",
       "2023-05-22                 0  \n",
       "2023-05-29                 0  \n",
       "2023-05-08                 1  \n",
       "2023-05-22                 0  \n",
       "2023-03-27                 0  \n",
       "...                      ...  \n",
       "2023-04-24                 0  \n",
       "2023-02-20                 0  \n",
       "2023-06-05                 1  \n",
       "2023-06-05                 1  \n",
       "2023-05-01                 0  \n",
       "\n",
       "[113400 rows x 8 columns]"
      ]
     },
     "execution_count": 20,
     "metadata": {},
     "output_type": "execute_result"
    }
   ],
   "source": [
    "df"
   ]
  },
  {
   "cell_type": "code",
   "execution_count": 21,
   "id": "7a19be9d-2b07-4f60-be72-a197ca2455a9",
   "metadata": {},
   "outputs": [],
   "source": [
    "df.freezer_status = df.freezer_status.apply(lambda x : 1 if x.replace(\" \", \"\") == \"freezersavailable\" else 0)"
   ]
  },
  {
   "cell_type": "code",
   "execution_count": 22,
   "id": "c477f22f-0f19-45fd-bc4b-98dccffbabce",
   "metadata": {},
   "outputs": [],
   "source": [
    "df.sort_index(inplace=True)"
   ]
  },
  {
   "cell_type": "code",
   "execution_count": 23,
   "id": "bda95e94-0d14-4b65-ae2f-0698394d2d16",
   "metadata": {},
   "outputs": [
    {
     "data": {
      "text/html": [
       "<div>\n",
       "<style scoped>\n",
       "    .dataframe tbody tr th:only-of-type {\n",
       "        vertical-align: middle;\n",
       "    }\n",
       "\n",
       "    .dataframe tbody tr th {\n",
       "        vertical-align: top;\n",
       "    }\n",
       "\n",
       "    .dataframe thead th {\n",
       "        text-align: right;\n",
       "    }\n",
       "</style>\n",
       "<table border=\"1\" class=\"dataframe\">\n",
       "  <thead>\n",
       "    <tr style=\"text-align: right;\">\n",
       "      <th></th>\n",
       "      <th>expected_rainfall</th>\n",
       "      <th>freezer_status</th>\n",
       "      <th>outlet_region</th>\n",
       "      <th>outlet_code</th>\n",
       "      <th>sales_quantity</th>\n",
       "      <th>week_number</th>\n",
       "      <th>month</th>\n",
       "      <th>rain_spikes</th>\n",
       "    </tr>\n",
       "    <tr>\n",
       "      <th>week_start_date</th>\n",
       "      <th></th>\n",
       "      <th></th>\n",
       "      <th></th>\n",
       "      <th></th>\n",
       "      <th></th>\n",
       "      <th></th>\n",
       "      <th></th>\n",
       "      <th></th>\n",
       "    </tr>\n",
       "  </thead>\n",
       "  <tbody>\n",
       "    <tr>\n",
       "      <th>2023-01-02</th>\n",
       "      <td>44.0</td>\n",
       "      <td>1</td>\n",
       "      <td>outstation</td>\n",
       "      <td>outlet_code_782</td>\n",
       "      <td>13</td>\n",
       "      <td>1</td>\n",
       "      <td>1</td>\n",
       "      <td>0</td>\n",
       "    </tr>\n",
       "    <tr>\n",
       "      <th>2023-01-02</th>\n",
       "      <td>49.0</td>\n",
       "      <td>0</td>\n",
       "      <td>outstation</td>\n",
       "      <td>outlet_code_1001</td>\n",
       "      <td>9</td>\n",
       "      <td>1</td>\n",
       "      <td>1</td>\n",
       "      <td>0</td>\n",
       "    </tr>\n",
       "    <tr>\n",
       "      <th>2023-01-02</th>\n",
       "      <td>43.0</td>\n",
       "      <td>1</td>\n",
       "      <td>outstation</td>\n",
       "      <td>outlet_code_903</td>\n",
       "      <td>31</td>\n",
       "      <td>1</td>\n",
       "      <td>1</td>\n",
       "      <td>0</td>\n",
       "    </tr>\n",
       "    <tr>\n",
       "      <th>2023-01-02</th>\n",
       "      <td>5.0</td>\n",
       "      <td>1</td>\n",
       "      <td>upcountry</td>\n",
       "      <td>outlet_code_1563</td>\n",
       "      <td>17</td>\n",
       "      <td>1</td>\n",
       "      <td>1</td>\n",
       "      <td>0</td>\n",
       "    </tr>\n",
       "    <tr>\n",
       "      <th>2023-01-02</th>\n",
       "      <td>86.0</td>\n",
       "      <td>0</td>\n",
       "      <td>outstation</td>\n",
       "      <td>outlet_code_1806</td>\n",
       "      <td>10</td>\n",
       "      <td>1</td>\n",
       "      <td>1</td>\n",
       "      <td>0</td>\n",
       "    </tr>\n",
       "  </tbody>\n",
       "</table>\n",
       "</div>"
      ],
      "text/plain": [
       "                 expected_rainfall  freezer_status outlet_region  \\\n",
       "week_start_date                                                    \n",
       "2023-01-02                    44.0               1    outstation   \n",
       "2023-01-02                    49.0               0    outstation   \n",
       "2023-01-02                    43.0               1    outstation   \n",
       "2023-01-02                     5.0               1     upcountry   \n",
       "2023-01-02                    86.0               0    outstation   \n",
       "\n",
       "                      outlet_code  sales_quantity  week_number  month  \\\n",
       "week_start_date                                                         \n",
       "2023-01-02        outlet_code_782              13            1      1   \n",
       "2023-01-02       outlet_code_1001               9            1      1   \n",
       "2023-01-02        outlet_code_903              31            1      1   \n",
       "2023-01-02       outlet_code_1563              17            1      1   \n",
       "2023-01-02       outlet_code_1806              10            1      1   \n",
       "\n",
       "                 rain_spikes  \n",
       "week_start_date               \n",
       "2023-01-02                 0  \n",
       "2023-01-02                 0  \n",
       "2023-01-02                 0  \n",
       "2023-01-02                 0  \n",
       "2023-01-02                 0  "
      ]
     },
     "execution_count": 23,
     "metadata": {},
     "output_type": "execute_result"
    }
   ],
   "source": [
    "df.head()"
   ]
  },
  {
   "cell_type": "markdown",
   "id": "92750abd-7bc0-4f23-b901-ee8ca071f27b",
   "metadata": {},
   "source": [
    "## EDA"
   ]
  },
  {
   "cell_type": "code",
   "execution_count": null,
   "id": "290cb285-2d66-417b-936a-5876787c05b8",
   "metadata": {},
   "outputs": [],
   "source": []
  },
  {
   "cell_type": "code",
   "execution_count": 24,
   "id": "9a175641-5342-4ac3-8733-4a709bab2572",
   "metadata": {},
   "outputs": [
    {
     "data": {
      "text/plain": [
       "<Axes: ylabel='sales_quantity'>"
      ]
     },
     "execution_count": 24,
     "metadata": {},
     "output_type": "execute_result"
    },
    {
     "data": {
      "image/png": "[encoded data removed]",
      "text/plain": [
       "<Figure size 640x480 with 1 Axes>"
      ]
     },
     "metadata": {},
     "output_type": "display_data"
    }
   ],
   "source": [
    "sns.barplot(y=df.groupby([\"outlet_region\"])[\"sales_quantity\"].count(), x=df.outlet_region.unique())"
   ]
  },
  {
   "cell_type": "code",
   "execution_count": 25,
   "id": "a962d99d-c703-4702-b484-01203cf049ee",
   "metadata": {},
   "outputs": [],
   "source": [
    "outlets = df.outlet_region.unique()"
   ]
  },
  {
   "cell_type": "code",
   "execution_count": 26,
   "id": "9a098d3f-6d99-4d93-89ac-c2d01a1c3de5",
   "metadata": {},
   "outputs": [
    {
     "data": {
      "text/plain": [
       "<Axes: xlabel='week_start_date', ylabel='expected_rainfall'>"
      ]
     },
     "execution_count": 26,
     "metadata": {},
     "output_type": "execute_result"
    },
    {
     "data": {
      "image/png": "[encoded data removed]",
      "text/plain": [
       "<Figure size 640x480 with 1 Axes>"
      ]
     },
     "metadata": {},
     "output_type": "display_data"
    }
   ],
   "source": [
    "# sns.lineplot(df[df[\"outlet_region\"]==outlets[0]].expected_rainfall)\n",
    "# sns.lineplot(df[df[\"outlet_region\"]==outlets[1]].expected_rainfall)\n",
    "# sns.lineplot(df[df[\"outlet_region\"]==outlets[2]].expected_rainfall)\n",
    "sns.lineplot(y=\"expected_rainfall\", x=df.index, data=df, hue=\"outlet_region\")"
   ]
  },
  {
   "cell_type": "code",
   "execution_count": 27,
   "id": "2d310b5c-7ff4-4738-a044-8ea334df1f25",
   "metadata": {},
   "outputs": [
    {
     "data": {
      "text/plain": [
       "<Axes: xlabel='week_start_date', ylabel='sales_quantity'>"
      ]
     },
     "execution_count": 27,
     "metadata": {},
     "output_type": "execute_result"
    },
    {
     "data": {
      "image/png": "[encoded data removed]",
      "text/plain": [
       "<Figure size 640x480 with 1 Axes>"
      ]
     },
     "metadata": {},
     "output_type": "display_data"
    }
   ],
   "source": [
    "# sns.lineplot(df[df[\"outlet_region\"]==outlets[0]].sales_quantity)\n",
    "# sns.lineplot(df[df[\"outlet_region\"]==outlets[1]].sales_quantity)\n",
    "# sns.lineplot(df[df[\"outlet_region\"]==outlets[2]].sales_quantity)\n",
    "sns.lineplot(y=\"sales_quantity\", hue=\"outlet_region\", x=df.index, data=df)\n"
   ]
  },
  {
   "cell_type": "code",
   "execution_count": 28,
   "id": "ed748336-1f41-4617-8c09-0d9ade2fe83c",
   "metadata": {},
   "outputs": [],
   "source": [
    "df_upcountry = df[df[\"outlet_region\"] == outlets[1]]"
   ]
  },
  {
   "cell_type": "code",
   "execution_count": 29,
   "id": "b1044540-097d-4af8-9748-af897aa2038b",
   "metadata": {},
   "outputs": [
    {
     "data": {
      "text/plain": [
       "week_number\n",
       "1     15.175714\n",
       "2     15.628571\n",
       "3     15.891429\n",
       "4     11.550000\n",
       "5     15.907143\n",
       "6     16.012857\n",
       "7     15.500000\n",
       "8     16.078571\n",
       "9     11.957143\n",
       "10    15.971429\n",
       "11    15.715714\n",
       "12    13.252857\n",
       "13    17.545714\n",
       "14    18.635714\n",
       "15    19.885714\n",
       "16    15.232857\n",
       "17    22.814286\n",
       "18    23.251429\n",
       "19    17.774286\n",
       "20    25.117143\n",
       "21    28.657143\n",
       "22    31.040000\n",
       "23    24.307143\n",
       "24    35.307143\n",
       "25    38.550000\n",
       "26    40.160000\n",
       "27    43.998571\n",
       "Name: sales_quantity, dtype: float64"
      ]
     },
     "execution_count": 29,
     "metadata": {},
     "output_type": "execute_result"
    }
   ],
   "source": [
    "df_upcountry.groupby([\"week_number\"])[\"sales_quantity\"].mean()"
   ]
  },
  {
   "cell_type": "code",
   "execution_count": 30,
   "id": "54d654f6-a596-4bb0-b4f8-0065633d1e1e",
   "metadata": {},
   "outputs": [
    {
     "data": {
      "text/plain": [
       "[<matplotlib.lines.Line2D at 0x17ac4fb0100>]"
      ]
     },
     "execution_count": 30,
     "metadata": {},
     "output_type": "execute_result"
    },
    {
     "data": {
      "image/png": "[encoded data removed]",
      "text/plain": [
       "<Figure size 640x480 with 1 Axes>"
      ]
     },
     "metadata": {},
     "output_type": "display_data"
    }
   ],
   "source": [
    "plt.plot(df_upcountry.groupby([\"week_number\"])[\"sales_quantity\"].mean())"
   ]
  },
  {
   "cell_type": "markdown",
   "id": "94126452-9554-4003-9b99-24c41e595e0f",
   "metadata": {},
   "source": [
    "## categorical encoding"
   ]
  },
  {
   "cell_type": "code",
   "execution_count": 158,
   "id": "050a38ce-a35a-4bc3-82bc-a9eadf0654d1",
   "metadata": {},
   "outputs": [],
   "source": [
    "from sklearn.preprocessing import OneHotEncoder"
   ]
  },
  {
   "cell_type": "code",
   "execution_count": 159,
   "id": "a76d6046-352b-4d11-b673-d71e81059daf",
   "metadata": {},
   "outputs": [],
   "source": [
    "encoder = OneHotEncoder()"
   ]
  },
  {
   "cell_type": "code",
   "execution_count": 160,
   "id": "cafdbe5e-5d0e-49af-ac6c-7b687df903fa",
   "metadata": {},
   "outputs": [],
   "source": [
    "region = df.outlet_region.values"
   ]
  },
  {
   "cell_type": "code",
   "execution_count": 167,
   "id": "6d64a1a6-0590-4b3e-b343-6b96378abb6b",
   "metadata": {},
   "outputs": [
    {
     "data": {
      "text/plain": [
       "<113400x3 sparse matrix of type '<class 'numpy.float64'>'\n",
       "\twith 113400 stored elements in Compressed Sparse Row format>"
      ]
     },
     "execution_count": 167,
     "metadata": {},
     "output_type": "execute_result"
    }
   ],
   "source": [
    "encoder.fit_transform(region.reshape(-1, 1))"
   ]
  },
  {
   "cell_type": "code",
   "execution_count": 166,
   "id": "2330699f-ebfb-4a4d-ac33-0241a138ca89",
   "metadata": {},
   "outputs": [
    {
     "data": {
      "text/html": [
       "<div>\n",
       "<style scoped>\n",
       "    .dataframe tbody tr th:only-of-type {\n",
       "        vertical-align: middle;\n",
       "    }\n",
       "\n",
       "    .dataframe tbody tr th {\n",
       "        vertical-align: top;\n",
       "    }\n",
       "\n",
       "    .dataframe thead th {\n",
       "        text-align: right;\n",
       "    }\n",
       "</style>\n",
       "<table border=\"1\" class=\"dataframe\">\n",
       "  <thead>\n",
       "    <tr style=\"text-align: right;\">\n",
       "      <th></th>\n",
       "      <th>expected_rainfall</th>\n",
       "      <th>freezer_status</th>\n",
       "      <th>outlet_region</th>\n",
       "      <th>outlet_code</th>\n",
       "      <th>sales_quantity</th>\n",
       "      <th>week_number</th>\n",
       "      <th>month</th>\n",
       "      <th>rain_spikes</th>\n",
       "    </tr>\n",
       "    <tr>\n",
       "      <th>week_start_date</th>\n",
       "      <th></th>\n",
       "      <th></th>\n",
       "      <th></th>\n",
       "      <th></th>\n",
       "      <th></th>\n",
       "      <th></th>\n",
       "      <th></th>\n",
       "      <th></th>\n",
       "    </tr>\n",
       "  </thead>\n",
       "  <tbody>\n",
       "    <tr>\n",
       "      <th>2023-01-02</th>\n",
       "      <td>44.0</td>\n",
       "      <td>1</td>\n",
       "      <td>0.0</td>\n",
       "      <td>outlet_code_782</td>\n",
       "      <td>13</td>\n",
       "      <td>1</td>\n",
       "      <td>1</td>\n",
       "      <td>0</td>\n",
       "    </tr>\n",
       "    <tr>\n",
       "      <th>2023-01-02</th>\n",
       "      <td>49.0</td>\n",
       "      <td>0</td>\n",
       "      <td>0.0</td>\n",
       "      <td>outlet_code_1001</td>\n",
       "      <td>9</td>\n",
       "      <td>1</td>\n",
       "      <td>1</td>\n",
       "      <td>0</td>\n",
       "    </tr>\n",
       "    <tr>\n",
       "      <th>2023-01-02</th>\n",
       "      <td>43.0</td>\n",
       "      <td>1</td>\n",
       "      <td>0.0</td>\n",
       "      <td>outlet_code_903</td>\n",
       "      <td>31</td>\n",
       "      <td>1</td>\n",
       "      <td>1</td>\n",
       "      <td>0</td>\n",
       "    </tr>\n",
       "    <tr>\n",
       "      <th>2023-01-02</th>\n",
       "      <td>5.0</td>\n",
       "      <td>1</td>\n",
       "      <td>1.0</td>\n",
       "      <td>outlet_code_1563</td>\n",
       "      <td>17</td>\n",
       "      <td>1</td>\n",
       "      <td>1</td>\n",
       "      <td>0</td>\n",
       "    </tr>\n",
       "    <tr>\n",
       "      <th>2023-01-02</th>\n",
       "      <td>86.0</td>\n",
       "      <td>0</td>\n",
       "      <td>0.0</td>\n",
       "      <td>outlet_code_1806</td>\n",
       "      <td>10</td>\n",
       "      <td>1</td>\n",
       "      <td>1</td>\n",
       "      <td>0</td>\n",
       "    </tr>\n",
       "    <tr>\n",
       "      <th>...</th>\n",
       "      <td>...</td>\n",
       "      <td>...</td>\n",
       "      <td>...</td>\n",
       "      <td>...</td>\n",
       "      <td>...</td>\n",
       "      <td>...</td>\n",
       "      <td>...</td>\n",
       "      <td>...</td>\n",
       "    </tr>\n",
       "    <tr>\n",
       "      <th>2023-07-03</th>\n",
       "      <td>58.0</td>\n",
       "      <td>1</td>\n",
       "      <td>2.0</td>\n",
       "      <td>outlet_code_435</td>\n",
       "      <td>71</td>\n",
       "      <td>27</td>\n",
       "      <td>7</td>\n",
       "      <td>0</td>\n",
       "    </tr>\n",
       "    <tr>\n",
       "      <th>2023-07-03</th>\n",
       "      <td>82.0</td>\n",
       "      <td>1</td>\n",
       "      <td>0.0</td>\n",
       "      <td>outlet_code_961</td>\n",
       "      <td>91</td>\n",
       "      <td>27</td>\n",
       "      <td>7</td>\n",
       "      <td>0</td>\n",
       "    </tr>\n",
       "    <tr>\n",
       "      <th>2023-07-03</th>\n",
       "      <td>47.0</td>\n",
       "      <td>1</td>\n",
       "      <td>0.0</td>\n",
       "      <td>outlet_code_1668</td>\n",
       "      <td>59</td>\n",
       "      <td>27</td>\n",
       "      <td>7</td>\n",
       "      <td>0</td>\n",
       "    </tr>\n",
       "    <tr>\n",
       "      <th>2023-07-03</th>\n",
       "      <td>57.0</td>\n",
       "      <td>1</td>\n",
       "      <td>2.0</td>\n",
       "      <td>outlet_code_3780</td>\n",
       "      <td>95</td>\n",
       "      <td>27</td>\n",
       "      <td>7</td>\n",
       "      <td>0</td>\n",
       "    </tr>\n",
       "    <tr>\n",
       "      <th>2023-07-03</th>\n",
       "      <td>5.0</td>\n",
       "      <td>0</td>\n",
       "      <td>0.0</td>\n",
       "      <td>outlet_code_2469</td>\n",
       "      <td>14</td>\n",
       "      <td>27</td>\n",
       "      <td>7</td>\n",
       "      <td>0</td>\n",
       "    </tr>\n",
       "  </tbody>\n",
       "</table>\n",
       "<p>113400 rows × 8 columns</p>\n",
       "</div>"
      ],
      "text/plain": [
       "                 expected_rainfall  freezer_status  outlet_region  \\\n",
       "week_start_date                                                     \n",
       "2023-01-02                    44.0               1            0.0   \n",
       "2023-01-02                    49.0               0            0.0   \n",
       "2023-01-02                    43.0               1            0.0   \n",
       "2023-01-02                     5.0               1            1.0   \n",
       "2023-01-02                    86.0               0            0.0   \n",
       "...                            ...             ...            ...   \n",
       "2023-07-03                    58.0               1            2.0   \n",
       "2023-07-03                    82.0               1            0.0   \n",
       "2023-07-03                    47.0               1            0.0   \n",
       "2023-07-03                    57.0               1            2.0   \n",
       "2023-07-03                     5.0               0            0.0   \n",
       "\n",
       "                      outlet_code  sales_quantity  week_number  month  \\\n",
       "week_start_date                                                         \n",
       "2023-01-02        outlet_code_782              13            1      1   \n",
       "2023-01-02       outlet_code_1001               9            1      1   \n",
       "2023-01-02        outlet_code_903              31            1      1   \n",
       "2023-01-02       outlet_code_1563              17            1      1   \n",
       "2023-01-02       outlet_code_1806              10            1      1   \n",
       "...                           ...             ...          ...    ...   \n",
       "2023-07-03        outlet_code_435              71           27      7   \n",
       "2023-07-03        outlet_code_961              91           27      7   \n",
       "2023-07-03       outlet_code_1668              59           27      7   \n",
       "2023-07-03       outlet_code_3780              95           27      7   \n",
       "2023-07-03       outlet_code_2469              14           27      7   \n",
       "\n",
       "                 rain_spikes  \n",
       "week_start_date               \n",
       "2023-01-02                 0  \n",
       "2023-01-02                 0  \n",
       "2023-01-02                 0  \n",
       "2023-01-02                 0  \n",
       "2023-01-02                 0  \n",
       "...                      ...  \n",
       "2023-07-03                 0  \n",
       "2023-07-03                 0  \n",
       "2023-07-03                 0  \n",
       "2023-07-03                 0  \n",
       "2023-07-03                 0  \n",
       "\n",
       "[113400 rows x 8 columns]"
      ]
     },
     "execution_count": 166,
     "metadata": {},
     "output_type": "execute_result"
    }
   ],
   "source": [
    "df"
   ]
  },
  {
   "cell_type": "code",
   "execution_count": null,
   "id": "4d02335b-188b-4d87-a469-ce7932bcc443",
   "metadata": {},
   "outputs": [],
   "source": []
  },
  {
   "cell_type": "code",
   "execution_count": null,
   "id": "cc1047af-2788-452f-97fc-51c799a63209",
   "metadata": {},
   "outputs": [],
   "source": []
  },
  {
   "cell_type": "code",
   "execution_count": null,
   "id": "2cb15369-262b-46e5-bad5-0ac3e5d73101",
   "metadata": {},
   "outputs": [],
   "source": []
  },
  {
   "cell_type": "markdown",
   "id": "7508908f-a9b5-4c00-a742-b2ee6016a8c8",
   "metadata": {},
   "source": [
    "## model fitting"
   ]
  },
  {
   "cell_type": "code",
   "execution_count": 36,
   "id": "1073c40b-c5f0-4820-8730-7c542ea232f4",
   "metadata": {},
   "outputs": [
    {
     "data": {
      "text/html": [
       "<div>\n",
       "<style scoped>\n",
       "    .dataframe tbody tr th:only-of-type {\n",
       "        vertical-align: middle;\n",
       "    }\n",
       "\n",
       "    .dataframe tbody tr th {\n",
       "        vertical-align: top;\n",
       "    }\n",
       "\n",
       "    .dataframe thead th {\n",
       "        text-align: right;\n",
       "    }\n",
       "</style>\n",
       "<table border=\"1\" class=\"dataframe\">\n",
       "  <thead>\n",
       "    <tr style=\"text-align: right;\">\n",
       "      <th></th>\n",
       "      <th>expected_rainfall</th>\n",
       "      <th>freezer_status</th>\n",
       "      <th>outlet_region</th>\n",
       "      <th>outlet_code</th>\n",
       "      <th>sales_quantity</th>\n",
       "      <th>week_number</th>\n",
       "      <th>month</th>\n",
       "      <th>rain_spikes</th>\n",
       "    </tr>\n",
       "    <tr>\n",
       "      <th>week_start_date</th>\n",
       "      <th></th>\n",
       "      <th></th>\n",
       "      <th></th>\n",
       "      <th></th>\n",
       "      <th></th>\n",
       "      <th></th>\n",
       "      <th></th>\n",
       "      <th></th>\n",
       "    </tr>\n",
       "  </thead>\n",
       "  <tbody>\n",
       "    <tr>\n",
       "      <th>2023-01-02</th>\n",
       "      <td>44.0</td>\n",
       "      <td>1</td>\n",
       "      <td>0.0</td>\n",
       "      <td>outlet_code_782</td>\n",
       "      <td>13</td>\n",
       "      <td>1</td>\n",
       "      <td>1</td>\n",
       "      <td>0</td>\n",
       "    </tr>\n",
       "    <tr>\n",
       "      <th>2023-01-02</th>\n",
       "      <td>49.0</td>\n",
       "      <td>0</td>\n",
       "      <td>0.0</td>\n",
       "      <td>outlet_code_1001</td>\n",
       "      <td>9</td>\n",
       "      <td>1</td>\n",
       "      <td>1</td>\n",
       "      <td>0</td>\n",
       "    </tr>\n",
       "    <tr>\n",
       "      <th>2023-01-02</th>\n",
       "      <td>43.0</td>\n",
       "      <td>1</td>\n",
       "      <td>0.0</td>\n",
       "      <td>outlet_code_903</td>\n",
       "      <td>31</td>\n",
       "      <td>1</td>\n",
       "      <td>1</td>\n",
       "      <td>0</td>\n",
       "    </tr>\n",
       "    <tr>\n",
       "      <th>2023-01-02</th>\n",
       "      <td>5.0</td>\n",
       "      <td>1</td>\n",
       "      <td>1.0</td>\n",
       "      <td>outlet_code_1563</td>\n",
       "      <td>17</td>\n",
       "      <td>1</td>\n",
       "      <td>1</td>\n",
       "      <td>0</td>\n",
       "    </tr>\n",
       "    <tr>\n",
       "      <th>2023-01-02</th>\n",
       "      <td>86.0</td>\n",
       "      <td>0</td>\n",
       "      <td>0.0</td>\n",
       "      <td>outlet_code_1806</td>\n",
       "      <td>10</td>\n",
       "      <td>1</td>\n",
       "      <td>1</td>\n",
       "      <td>0</td>\n",
       "    </tr>\n",
       "  </tbody>\n",
       "</table>\n",
       "</div>"
      ],
      "text/plain": [
       "                 expected_rainfall  freezer_status  outlet_region  \\\n",
       "week_start_date                                                     \n",
       "2023-01-02                    44.0               1            0.0   \n",
       "2023-01-02                    49.0               0            0.0   \n",
       "2023-01-02                    43.0               1            0.0   \n",
       "2023-01-02                     5.0               1            1.0   \n",
       "2023-01-02                    86.0               0            0.0   \n",
       "\n",
       "                      outlet_code  sales_quantity  week_number  month  \\\n",
       "week_start_date                                                         \n",
       "2023-01-02        outlet_code_782              13            1      1   \n",
       "2023-01-02       outlet_code_1001               9            1      1   \n",
       "2023-01-02        outlet_code_903              31            1      1   \n",
       "2023-01-02       outlet_code_1563              17            1      1   \n",
       "2023-01-02       outlet_code_1806              10            1      1   \n",
       "\n",
       "                 rain_spikes  \n",
       "week_start_date               \n",
       "2023-01-02                 0  \n",
       "2023-01-02                 0  \n",
       "2023-01-02                 0  \n",
       "2023-01-02                 0  \n",
       "2023-01-02                 0  "
      ]
     },
     "execution_count": 36,
     "metadata": {},
     "output_type": "execute_result"
    }
   ],
   "source": [
    "df.head(5)"
   ]
  },
  {
   "cell_type": "code",
   "execution_count": 117,
   "id": "059f1275-f944-42d0-b77e-c6aaa01cbce3",
   "metadata": {},
   "outputs": [],
   "source": [
    "data = df.groupby([\"outlet_code\"])"
   ]
  },
  {
   "cell_type": "code",
   "execution_count": 118,
   "id": "534f48c7-7027-4c0b-b98d-38776a9388c0",
   "metadata": {},
   "outputs": [],
   "source": [
    "#for i in data:"
   ]
  },
  {
   "cell_type": "code",
   "execution_count": 119,
   "id": "48140c03-7e9d-49ab-b590-5d6a1a90f451",
   "metadata": {},
   "outputs": [],
   "source": [
    "import xgboost as xgb"
   ]
  },
  {
   "cell_type": "code",
   "execution_count": 120,
   "id": "c7d4949e-a954-4a73-8e7f-13f3d23f3cb6",
   "metadata": {},
   "outputs": [],
   "source": [
    "reg = xgb.XGBRegressor(base_score=0.5, booster='gbtree',\n",
    "                       n_estimators=10,\n",
    "                       #early_stopping_rounds=50,\n",
    "                       objective='reg:linear',\n",
    "                       max_depth=3,\n",
    "                       learning_rate=0.01)"
   ]
  },
  {
   "cell_type": "code",
   "execution_count": 121,
   "id": "342e88e8-1fea-4473-8123-05bd610c83df",
   "metadata": {},
   "outputs": [],
   "source": [
    "train = df[df.week_number <= 22]\n",
    "test = df[df.week_number > 22]"
   ]
  },
  {
   "cell_type": "code",
   "execution_count": 122,
   "id": "e006d39f-4e34-4a7b-b397-3b0b989d1f77",
   "metadata": {},
   "outputs": [
    {
     "data": {
      "text/plain": [
       "['expected_rainfall',\n",
       " 'freezer_status',\n",
       " 'outlet_region',\n",
       " 'outlet_code',\n",
       " 'week_number',\n",
       " 'month',\n",
       " 'rain_spikes']"
      ]
     },
     "execution_count": 122,
     "metadata": {},
     "output_type": "execute_result"
    }
   ],
   "source": [
    "features = list(train.columns)\n",
    "features.remove('sales_quantity')\n",
    "features"
   ]
  },
  {
   "cell_type": "code",
   "execution_count": 123,
   "id": "735f40d0-6c66-4037-8bcc-5801458e02fc",
   "metadata": {},
   "outputs": [],
   "source": [
    "X_train = train[features]\n",
    "y_train = train.sales_quantity"
   ]
  },
  {
   "cell_type": "code",
   "execution_count": 124,
   "id": "d20badb2-15c1-4c20-8d13-b786ed28d40f",
   "metadata": {},
   "outputs": [
    {
     "data": {
      "text/plain": [
       "(92400, 92400)"
      ]
     },
     "execution_count": 124,
     "metadata": {},
     "output_type": "execute_result"
    }
   ],
   "source": [
    "len(X_train), len(y_train)"
   ]
  },
  {
   "cell_type": "code",
   "execution_count": 126,
   "id": "3367eab7-2ee3-4f08-b398-06e889a06f72",
   "metadata": {},
   "outputs": [],
   "source": [
    "X_test = test[features]\n",
    "y_test = test.sales_quantity"
   ]
  },
  {
   "cell_type": "code",
   "execution_count": 127,
   "id": "9f88e1df-d821-4242-986e-7f6f08e18d06",
   "metadata": {},
   "outputs": [
    {
     "data": {
      "text/plain": [
       "array([False, False, False, ..., False, False, False])"
      ]
     },
     "execution_count": 127,
     "metadata": {},
     "output_type": "execute_result"
    }
   ],
   "source": [
    "np.array(X_train.outlet_code == \"outlet_code_1\")"
   ]
  },
  {
   "cell_type": "code",
   "execution_count": 128,
   "id": "293801c2-431c-4d70-a08f-b51d0d70656f",
   "metadata": {},
   "outputs": [],
   "source": [
    "X_train_ = X_train[X_train.outlet_code == \"outlet_code_1\"]\n",
    "y_train_= y_train[np.array(X_train.outlet_code == \"outlet_code_1\")]"
   ]
  },
  {
   "cell_type": "code",
   "execution_count": 131,
   "id": "14a6633f-419d-4471-8db7-b19ef16cdfb4",
   "metadata": {},
   "outputs": [
    {
     "data": {
      "text/plain": [
       "22"
      ]
     },
     "execution_count": 131,
     "metadata": {},
     "output_type": "execute_result"
    }
   ],
   "source": [
    "len(X_train_)"
   ]
  },
  {
   "cell_type": "code",
   "execution_count": 132,
   "id": "2e5dac95-b4f0-4672-b695-b6a13e579e64",
   "metadata": {},
   "outputs": [
    {
     "data": {
      "text/plain": [
       "22"
      ]
     },
     "execution_count": 132,
     "metadata": {},
     "output_type": "execute_result"
    }
   ],
   "source": [
    "len(y_train_)"
   ]
  },
  {
   "cell_type": "code",
   "execution_count": 133,
   "id": "8a0b2652-67eb-464a-a4dd-87b20dfc09d2",
   "metadata": {},
   "outputs": [],
   "source": [
    "X_test_ = X_test[X_test.outlet_code == \"outlet_code_1\"]\n",
    "y_test_ = y_test[X_test.outlet_code == \"outlet_code_1\"]"
   ]
  },
  {
   "cell_type": "code",
   "execution_count": 134,
   "id": "28d973d4-3627-42fa-8d57-aac6271f02fa",
   "metadata": {},
   "outputs": [
    {
     "data": {
      "text/plain": [
       "5"
      ]
     },
     "execution_count": 134,
     "metadata": {},
     "output_type": "execute_result"
    }
   ],
   "source": [
    "len(X_test_)"
   ]
  },
  {
   "cell_type": "code",
   "execution_count": 135,
   "id": "36029ba6-6dfe-462b-adb2-fa2e3b23b0f2",
   "metadata": {},
   "outputs": [
    {
     "data": {
      "text/plain": [
       "5"
      ]
     },
     "execution_count": 135,
     "metadata": {},
     "output_type": "execute_result"
    }
   ],
   "source": [
    "len(y_test_)"
   ]
  },
  {
   "cell_type": "code",
   "execution_count": 136,
   "id": "0d71eac3-d45a-43ec-b539-d230e43e5097",
   "metadata": {},
   "outputs": [
    {
     "name": "stderr",
     "output_type": "stream",
     "text": [
      "C:\\Users\\malis\\AppData\\Local\\Temp\\ipykernel_13844\\3595028069.py:1: SettingWithCopyWarning: \n",
      "A value is trying to be set on a copy of a slice from a DataFrame\n",
      "\n",
      "See the caveats in the documentation: https://pandas.pydata.org/pandas-docs/stable/user_guide/indexing.html#returning-a-view-versus-a-copy\n",
      "  X_train_.drop(\"outlet_code\", axis=1, inplace=True)\n"
     ]
    }
   ],
   "source": [
    "X_train_.drop(\"outlet_code\", axis=1, inplace=True)"
   ]
  },
  {
   "cell_type": "code",
   "execution_count": 137,
   "id": "7afd3db5-f4c3-41fc-816b-69d95ce7d254",
   "metadata": {},
   "outputs": [
    {
     "name": "stderr",
     "output_type": "stream",
     "text": [
      "C:\\Users\\malis\\AppData\\Local\\Temp\\ipykernel_13844\\845347598.py:1: SettingWithCopyWarning: \n",
      "A value is trying to be set on a copy of a slice from a DataFrame\n",
      "\n",
      "See the caveats in the documentation: https://pandas.pydata.org/pandas-docs/stable/user_guide/indexing.html#returning-a-view-versus-a-copy\n",
      "  X_test_.drop(\"outlet_code\", axis=1, inplace=True)\n"
     ]
    }
   ],
   "source": [
    "X_test_.drop(\"outlet_code\", axis=1, inplace=True)"
   ]
  },
  {
   "cell_type": "code",
   "execution_count": 138,
   "id": "f86d5b09-c43d-4745-b3b4-561b1c92bb9f",
   "metadata": {},
   "outputs": [
    {
     "data": {
      "text/plain": [
       "(22, 6)"
      ]
     },
     "execution_count": 138,
     "metadata": {},
     "output_type": "execute_result"
    }
   ],
   "source": [
    "X_train_.shape"
   ]
  },
  {
   "cell_type": "code",
   "execution_count": 139,
   "id": "90d6b2c8-90dd-4b9b-a873-32e5adda41a7",
   "metadata": {},
   "outputs": [
    {
     "data": {
      "text/html": [
       "<div>\n",
       "<style scoped>\n",
       "    .dataframe tbody tr th:only-of-type {\n",
       "        vertical-align: middle;\n",
       "    }\n",
       "\n",
       "    .dataframe tbody tr th {\n",
       "        vertical-align: top;\n",
       "    }\n",
       "\n",
       "    .dataframe thead th {\n",
       "        text-align: right;\n",
       "    }\n",
       "</style>\n",
       "<table border=\"1\" class=\"dataframe\">\n",
       "  <thead>\n",
       "    <tr style=\"text-align: right;\">\n",
       "      <th></th>\n",
       "      <th>expected_rainfall</th>\n",
       "      <th>freezer_status</th>\n",
       "      <th>outlet_region</th>\n",
       "      <th>week_number</th>\n",
       "      <th>month</th>\n",
       "      <th>rain_spikes</th>\n",
       "    </tr>\n",
       "    <tr>\n",
       "      <th>week_start_date</th>\n",
       "      <th></th>\n",
       "      <th></th>\n",
       "      <th></th>\n",
       "      <th></th>\n",
       "      <th></th>\n",
       "      <th></th>\n",
       "    </tr>\n",
       "  </thead>\n",
       "  <tbody>\n",
       "    <tr>\n",
       "      <th>2023-06-05</th>\n",
       "      <td>171.0</td>\n",
       "      <td>1</td>\n",
       "      <td>0.0</td>\n",
       "      <td>23</td>\n",
       "      <td>6</td>\n",
       "      <td>1</td>\n",
       "    </tr>\n",
       "    <tr>\n",
       "      <th>2023-06-12</th>\n",
       "      <td>22.0</td>\n",
       "      <td>1</td>\n",
       "      <td>0.0</td>\n",
       "      <td>24</td>\n",
       "      <td>6</td>\n",
       "      <td>0</td>\n",
       "    </tr>\n",
       "    <tr>\n",
       "      <th>2023-06-19</th>\n",
       "      <td>79.0</td>\n",
       "      <td>1</td>\n",
       "      <td>0.0</td>\n",
       "      <td>25</td>\n",
       "      <td>6</td>\n",
       "      <td>0</td>\n",
       "    </tr>\n",
       "    <tr>\n",
       "      <th>2023-06-26</th>\n",
       "      <td>36.0</td>\n",
       "      <td>1</td>\n",
       "      <td>0.0</td>\n",
       "      <td>26</td>\n",
       "      <td>6</td>\n",
       "      <td>0</td>\n",
       "    </tr>\n",
       "    <tr>\n",
       "      <th>2023-07-03</th>\n",
       "      <td>66.0</td>\n",
       "      <td>1</td>\n",
       "      <td>0.0</td>\n",
       "      <td>27</td>\n",
       "      <td>7</td>\n",
       "      <td>0</td>\n",
       "    </tr>\n",
       "  </tbody>\n",
       "</table>\n",
       "</div>"
      ],
      "text/plain": [
       "                 expected_rainfall  freezer_status  outlet_region  \\\n",
       "week_start_date                                                     \n",
       "2023-06-05                   171.0               1            0.0   \n",
       "2023-06-12                    22.0               1            0.0   \n",
       "2023-06-19                    79.0               1            0.0   \n",
       "2023-06-26                    36.0               1            0.0   \n",
       "2023-07-03                    66.0               1            0.0   \n",
       "\n",
       "                 week_number  month  rain_spikes  \n",
       "week_start_date                                   \n",
       "2023-06-05                23      6            1  \n",
       "2023-06-12                24      6            0  \n",
       "2023-06-19                25      6            0  \n",
       "2023-06-26                26      6            0  \n",
       "2023-07-03                27      7            0  "
      ]
     },
     "execution_count": 139,
     "metadata": {},
     "output_type": "execute_result"
    }
   ],
   "source": [
    "X_test_"
   ]
  },
  {
   "cell_type": "code",
   "execution_count": 140,
   "id": "4bcdaeb8-dd61-4b31-8671-9f698ca78ee4",
   "metadata": {},
   "outputs": [
    {
     "data": {
      "text/plain": [
       "(5, 6)"
      ]
     },
     "execution_count": 140,
     "metadata": {},
     "output_type": "execute_result"
    }
   ],
   "source": [
    "X_test_.shape"
   ]
  },
  {
   "cell_type": "code",
   "execution_count": 141,
   "id": "ff5f49d9-9dbc-46f4-bd35-ae710468cbfb",
   "metadata": {},
   "outputs": [
    {
     "data": {
      "text/plain": [
       "expected_rainfall    float64\n",
       "freezer_status         int64\n",
       "outlet_region        float64\n",
       "week_number            int32\n",
       "month                  int32\n",
       "rain_spikes            int64\n",
       "dtype: object"
      ]
     },
     "execution_count": 141,
     "metadata": {},
     "output_type": "execute_result"
    }
   ],
   "source": [
    "X_train_.dtypes"
   ]
  },
  {
   "cell_type": "code",
   "execution_count": 142,
   "id": "9e05d7fb-8863-481f-bef5-a1e543b6369c",
   "metadata": {},
   "outputs": [
    {
     "name": "stdout",
     "output_type": "stream",
     "text": [
      "[17:02:57] WARNING: D:\\bld\\xgboost-split_1700181111005\\work\\src\\objective\\regression_obj.cu:213: reg:linear is now deprecated in favor of reg:squarederror.\n"
     ]
    },
    {
     "name": "stderr",
     "output_type": "stream",
     "text": [
      "C:\\Users\\malis\\miniconda3\\envs\\env0\\lib\\site-packages\\xgboost\\data.py:312: FutureWarning: is_sparse is deprecated and will be removed in a future version. Check `isinstance(dtype, pd.SparseDtype)` instead.\n",
      "  if is_sparse(dtype):\n",
      "C:\\Users\\malis\\miniconda3\\envs\\env0\\lib\\site-packages\\xgboost\\data.py:314: FutureWarning: is_categorical_dtype is deprecated and will be removed in a future version. Use isinstance(dtype, CategoricalDtype) instead\n",
      "  elif is_categorical_dtype(dtype) and enable_categorical:\n",
      "C:\\Users\\malis\\miniconda3\\envs\\env0\\lib\\site-packages\\xgboost\\data.py:345: FutureWarning: is_categorical_dtype is deprecated and will be removed in a future version. Use isinstance(dtype, CategoricalDtype) instead\n",
      "  if is_categorical_dtype(dtype)\n",
      "C:\\Users\\malis\\miniconda3\\envs\\env0\\lib\\site-packages\\xgboost\\data.py:336: FutureWarning: is_categorical_dtype is deprecated and will be removed in a future version. Use isinstance(dtype, CategoricalDtype) instead\n",
      "  return is_int or is_bool or is_float or is_categorical_dtype(dtype)\n",
      "C:\\Users\\malis\\miniconda3\\envs\\env0\\lib\\site-packages\\xgboost\\data.py:440: FutureWarning: is_sparse is deprecated and will be removed in a future version. Check `isinstance(dtype, pd.SparseDtype)` instead.\n",
      "  if is_sparse(data):\n"
     ]
    },
    {
     "data": {
      "text/html": [
       "<style>#sk-container-id-2 {color: black;}#sk-container-id-2 pre{padding: 0;}#sk-container-id-2 div.sk-toggleable {background-color: white;}#sk-container-id-2 label.sk-toggleable__label {cursor: pointer;display: block;width: 100%;margin-bottom: 0;padding: 0.3em;box-sizing: border-box;text-align: center;}#sk-container-id-2 label.sk-toggleable__label-arrow:before {content: \"▸\";float: left;margin-right: 0.25em;color: #696969;}#sk-container-id-2 label.sk-toggleable__label-arrow:hover:before {color: black;}#sk-container-id-2 div.sk-estimator:hover label.sk-toggleable__label-arrow:before {color: black;}#sk-container-id-2 div.sk-toggleable__content {max-height: 0;max-width: 0;overflow: hidden;text-align: left;background-color: #f0f8ff;}#sk-container-id-2 div.sk-toggleable__content pre {margin: 0.2em;color: black;border-radius: 0.25em;background-color: #f0f8ff;}#sk-container-id-2 input.sk-toggleable__control:checked~div.sk-toggleable__content {max-height: 200px;max-width: 100%;overflow: auto;}#sk-container-id-2 input.sk-toggleable__control:checked~label.sk-toggleable__label-arrow:before {content: \"▾\";}#sk-container-id-2 div.sk-estimator input.sk-toggleable__control:checked~label.sk-toggleable__label {background-color: #d4ebff;}#sk-container-id-2 div.sk-label input.sk-toggleable__control:checked~label.sk-toggleable__label {background-color: #d4ebff;}#sk-container-id-2 input.sk-hidden--visually {border: 0;clip: rect(1px 1px 1px 1px);clip: rect(1px, 1px, 1px, 1px);height: 1px;margin: -1px;overflow: hidden;padding: 0;position: absolute;width: 1px;}#sk-container-id-2 div.sk-estimator {font-family: monospace;background-color: #f0f8ff;border: 1px dotted black;border-radius: 0.25em;box-sizing: border-box;margin-bottom: 0.5em;}#sk-container-id-2 div.sk-estimator:hover {background-color: #d4ebff;}#sk-container-id-2 div.sk-parallel-item::after {content: \"\";width: 100%;border-bottom: 1px solid gray;flex-grow: 1;}#sk-container-id-2 div.sk-label:hover label.sk-toggleable__label {background-color: #d4ebff;}#sk-container-id-2 div.sk-serial::before {content: \"\";position: absolute;border-left: 1px solid gray;box-sizing: border-box;top: 0;bottom: 0;left: 50%;z-index: 0;}#sk-container-id-2 div.sk-serial {display: flex;flex-direction: column;align-items: center;background-color: white;padding-right: 0.2em;padding-left: 0.2em;position: relative;}#sk-container-id-2 div.sk-item {position: relative;z-index: 1;}#sk-container-id-2 div.sk-parallel {display: flex;align-items: stretch;justify-content: center;background-color: white;position: relative;}#sk-container-id-2 div.sk-item::before, #sk-container-id-2 div.sk-parallel-item::before {content: \"\";position: absolute;border-left: 1px solid gray;box-sizing: border-box;top: 0;bottom: 0;left: 50%;z-index: -1;}#sk-container-id-2 div.sk-parallel-item {display: flex;flex-direction: column;z-index: 1;position: relative;background-color: white;}#sk-container-id-2 div.sk-parallel-item:first-child::after {align-self: flex-end;width: 50%;}#sk-container-id-2 div.sk-parallel-item:last-child::after {align-self: flex-start;width: 50%;}#sk-container-id-2 div.sk-parallel-item:only-child::after {width: 0;}#sk-container-id-2 div.sk-dashed-wrapped {border: 1px dashed gray;margin: 0 0.4em 0.5em 0.4em;box-sizing: border-box;padding-bottom: 0.4em;background-color: white;}#sk-container-id-2 div.sk-label label {font-family: monospace;font-weight: bold;display: inline-block;line-height: 1.2em;}#sk-container-id-2 div.sk-label-container {text-align: center;}#sk-container-id-2 div.sk-container {/* jupyter's `normalize.less` sets `[hidden] { display: none; }` but bootstrap.min.css set `[hidden] { display: none !important; }` so we also need the `!important` here to be able to override the default hidden behavior on the sphinx rendered scikit-learn.org. See: https://github.com/scikit-learn/scikit-learn/issues/21755 */display: inline-block !important;position: relative;}#sk-container-id-2 div.sk-text-repr-fallback {display: none;}</style><div id=\"sk-container-id-2\" class=\"sk-top-container\"><div class=\"sk-text-repr-fallback\"><pre>XGBRegressor(base_score=0.5, booster=&#x27;gbtree&#x27;, callbacks=None,\n",
       "             colsample_bylevel=None, colsample_bynode=None,\n",
       "             colsample_bytree=None, early_stopping_rounds=None,\n",
       "             enable_categorical=False, eval_metric=None, feature_types=None,\n",
       "             gamma=None, gpu_id=None, grow_policy=None, importance_type=None,\n",
       "             interaction_constraints=None, learning_rate=0.01, max_bin=None,\n",
       "             max_cat_threshold=None, max_cat_to_onehot=None,\n",
       "             max_delta_step=None, max_depth=3, max_leaves=None,\n",
       "             min_child_weight=None, missing=nan, monotone_constraints=None,\n",
       "             n_estimators=10, n_jobs=None, num_parallel_tree=None,\n",
       "             objective=&#x27;reg:linear&#x27;, predictor=None, ...)</pre><b>In a Jupyter environment, please rerun this cell to show the HTML representation or trust the notebook. <br />On GitHub, the HTML representation is unable to render, please try loading this page with nbviewer.org.</b></div><div class=\"sk-container\" hidden><div class=\"sk-item\"><div class=\"sk-estimator sk-toggleable\"><input class=\"sk-toggleable__control sk-hidden--visually\" id=\"sk-estimator-id-2\" type=\"checkbox\" checked><label for=\"sk-estimator-id-2\" class=\"sk-toggleable__label sk-toggleable__label-arrow\">XGBRegressor</label><div class=\"sk-toggleable__content\"><pre>XGBRegressor(base_score=0.5, booster=&#x27;gbtree&#x27;, callbacks=None,\n",
       "             colsample_bylevel=None, colsample_bynode=None,\n",
       "             colsample_bytree=None, early_stopping_rounds=None,\n",
       "             enable_categorical=False, eval_metric=None, feature_types=None,\n",
       "             gamma=None, gpu_id=None, grow_policy=None, importance_type=None,\n",
       "             interaction_constraints=None, learning_rate=0.01, max_bin=None,\n",
       "             max_cat_threshold=None, max_cat_to_onehot=None,\n",
       "             max_delta_step=None, max_depth=3, max_leaves=None,\n",
       "             min_child_weight=None, missing=nan, monotone_constraints=None,\n",
       "             n_estimators=10, n_jobs=None, num_parallel_tree=None,\n",
       "             objective=&#x27;reg:linear&#x27;, predictor=None, ...)</pre></div></div></div></div></div>"
      ],
      "text/plain": [
       "XGBRegressor(base_score=0.5, booster='gbtree', callbacks=None,\n",
       "             colsample_bylevel=None, colsample_bynode=None,\n",
       "             colsample_bytree=None, early_stopping_rounds=None,\n",
       "             enable_categorical=False, eval_metric=None, feature_types=None,\n",
       "             gamma=None, gpu_id=None, grow_policy=None, importance_type=None,\n",
       "             interaction_constraints=None, learning_rate=0.01, max_bin=None,\n",
       "             max_cat_threshold=None, max_cat_to_onehot=None,\n",
       "             max_delta_step=None, max_depth=3, max_leaves=None,\n",
       "             min_child_weight=None, missing=nan, monotone_constraints=None,\n",
       "             n_estimators=10, n_jobs=None, num_parallel_tree=None,\n",
       "             objective='reg:linear', predictor=None, ...)"
      ]
     },
     "execution_count": 142,
     "metadata": {},
     "output_type": "execute_result"
    }
   ],
   "source": [
    "reg.fit(X_train_, y_train_)"
   ]
  },
  {
   "cell_type": "code",
   "execution_count": 153,
   "id": "3162945f-8590-4294-912f-6f00a1475aa6",
   "metadata": {},
   "outputs": [
    {
     "name": "stderr",
     "output_type": "stream",
     "text": [
      "C:\\Users\\malis\\miniconda3\\envs\\env0\\lib\\site-packages\\xgboost\\data.py:312: FutureWarning: is_sparse is deprecated and will be removed in a future version. Check `isinstance(dtype, pd.SparseDtype)` instead.\n",
      "  if is_sparse(dtype):\n",
      "C:\\Users\\malis\\miniconda3\\envs\\env0\\lib\\site-packages\\xgboost\\data.py:314: FutureWarning: is_categorical_dtype is deprecated and will be removed in a future version. Use isinstance(dtype, CategoricalDtype) instead\n",
      "  elif is_categorical_dtype(dtype) and enable_categorical:\n",
      "C:\\Users\\malis\\miniconda3\\envs\\env0\\lib\\site-packages\\xgboost\\data.py:345: FutureWarning: is_categorical_dtype is deprecated and will be removed in a future version. Use isinstance(dtype, CategoricalDtype) instead\n",
      "  if is_categorical_dtype(dtype)\n",
      "C:\\Users\\malis\\miniconda3\\envs\\env0\\lib\\site-packages\\xgboost\\data.py:336: FutureWarning: is_categorical_dtype is deprecated and will be removed in a future version. Use isinstance(dtype, CategoricalDtype) instead\n",
      "  return is_int or is_bool or is_float or is_categorical_dtype(dtype)\n"
     ]
    },
    {
     "data": {
      "text/plain": [
       "array([2.6987836, 3.1797438, 3.1797438, 3.1797438, 3.1797438],\n",
       "      dtype=float32)"
      ]
     },
     "execution_count": 153,
     "metadata": {},
     "output_type": "execute_result"
    }
   ],
   "source": [
    "reg.predict(X_test_)"
   ]
  },
  {
   "cell_type": "code",
   "execution_count": 157,
   "id": "746331ec-ca3d-4da4-87b7-95e1db6704a3",
   "metadata": {},
   "outputs": [
    {
     "data": {
      "text/plain": [
       "DatetimeIndex(['2023-06-05', '2023-06-12', '2023-06-19', '2023-06-26',\n",
       "               '2023-07-03'],\n",
       "              dtype='datetime64[ns]', name='week_start_date', freq=None)"
      ]
     },
     "execution_count": 157,
     "metadata": {},
     "output_type": "execute_result"
    }
   ],
   "source": [
    "y_test_.index"
   ]
  },
  {
   "cell_type": "code",
   "execution_count": 156,
   "id": "17d9f4bf-98ca-4cc2-baa6-9f4c44e09035",
   "metadata": {},
   "outputs": [
    {
     "name": "stderr",
     "output_type": "stream",
     "text": [
      "C:\\Users\\malis\\miniconda3\\envs\\env0\\lib\\site-packages\\xgboost\\data.py:312: FutureWarning: is_sparse is deprecated and will be removed in a future version. Check `isinstance(dtype, pd.SparseDtype)` instead.\n",
      "  if is_sparse(dtype):\n",
      "C:\\Users\\malis\\miniconda3\\envs\\env0\\lib\\site-packages\\xgboost\\data.py:314: FutureWarning: is_categorical_dtype is deprecated and will be removed in a future version. Use isinstance(dtype, CategoricalDtype) instead\n",
      "  elif is_categorical_dtype(dtype) and enable_categorical:\n",
      "C:\\Users\\malis\\miniconda3\\envs\\env0\\lib\\site-packages\\xgboost\\data.py:345: FutureWarning: is_categorical_dtype is deprecated and will be removed in a future version. Use isinstance(dtype, CategoricalDtype) instead\n",
      "  if is_categorical_dtype(dtype)\n",
      "C:\\Users\\malis\\miniconda3\\envs\\env0\\lib\\site-packages\\xgboost\\data.py:336: FutureWarning: is_categorical_dtype is deprecated and will be removed in a future version. Use isinstance(dtype, CategoricalDtype) instead\n",
      "  return is_int or is_bool or is_float or is_categorical_dtype(dtype)\n"
     ]
    },
    {
     "data": {
      "text/plain": [
       "<Axes: >"
      ]
     },
     "execution_count": 156,
     "metadata": {},
     "output_type": "execute_result"
    },
    {
     "data": {
      "image/png": "[encoded data removed]",
      "text/plain": [
       "<Figure size 640x480 with 1 Axes>"
      ]
     },
     "metadata": {},
     "output_type": "display_data"
    }
   ],
   "source": [
    "sns.lineplot(reg.predict(X_test_))\n",
    "#sns.lineplot(y_test_)"
   ]
  },
  {
   "cell_type": "code",
   "execution_count": null,
   "id": "38847eab-b460-46a5-a1a1-306b4668295b",
   "metadata": {},
   "outputs": [],
   "source": []
  }
 ],
 "metadata": {
  "kernelspec": {
   "display_name": "Python 3 (ipykernel)",
   "language": "python",
   "name": "python3"
  },
  "language_info": {
   "codemirror_mode": {
    "name": "ipython",
    "version": 3
   },
   "file_extension": ".py",
   "mimetype": "text/x-python",
   "name": "python",
   "nbconvert_exporter": "python",
   "pygments_lexer": "ipython3",
   "version": "3.10.13"
  }
 },
 "nbformat": 4,
 "nbformat_minor": 5
}
