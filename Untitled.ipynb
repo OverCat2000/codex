{
 "cells": [
  {
   "cell_type": "code",
   "execution_count": 1,
   "id": "07f5171e-08f4-42fd-9571-e332b716b006",
   "metadata": {},
   "outputs": [],
   "source": [
    "import pandas as pd\n",
    "import numpy as np\n",
    "import matplotlib.pyplot as plt\n",
    "import seaborn as sns\n",
    "import copy"
   ]
  },
  {
   "cell_type": "code",
   "execution_count": 2,
   "id": "10234b88-42bf-4f83-b69c-d70116cbbc2f",
   "metadata": {},
   "outputs": [],
   "source": [
    "train = pd.read_csv(\"train.csv\")"
   ]
  },
  {
   "cell_type": "code",
   "execution_count": 3,
   "id": "9adf506f-a4d3-48b7-82a1-8a10a6519909",
   "metadata": {},
   "outputs": [
    {
     "data": {
      "text/html": [
       "<div>\n",
       "<style scoped>\n",
       "    .dataframe tbody tr th:only-of-type {\n",
       "        vertical-align: middle;\n",
       "    }\n",
       "\n",
       "    .dataframe tbody tr th {\n",
       "        vertical-align: top;\n",
       "    }\n",
       "\n",
       "    .dataframe thead th {\n",
       "        text-align: right;\n",
       "    }\n",
       "</style>\n",
       "<table border=\"1\" class=\"dataframe\">\n",
       "  <thead>\n",
       "    <tr style=\"text-align: right;\">\n",
       "      <th></th>\n",
       "      <th>week_start_date</th>\n",
       "      <th>expected_rainfall</th>\n",
       "      <th>freezer_status</th>\n",
       "      <th>outlet_region</th>\n",
       "      <th>outlet_code</th>\n",
       "      <th>sales_quantity</th>\n",
       "    </tr>\n",
       "  </thead>\n",
       "  <tbody>\n",
       "    <tr>\n",
       "      <th>0</th>\n",
       "      <td>5/22/2023</td>\n",
       "      <td>57mm</td>\n",
       "      <td>freezers available</td>\n",
       "      <td>outstation</td>\n",
       "      <td>outlet_code_3254</td>\n",
       "      <td>95</td>\n",
       "    </tr>\n",
       "    <tr>\n",
       "      <th>1</th>\n",
       "      <td>5/29/2023</td>\n",
       "      <td>8mm</td>\n",
       "      <td>freezers available</td>\n",
       "      <td>outstation</td>\n",
       "      <td>outlet_code_1859</td>\n",
       "      <td>107</td>\n",
       "    </tr>\n",
       "    <tr>\n",
       "      <th>2</th>\n",
       "      <td>5/8/2023</td>\n",
       "      <td>170.57mm</td>\n",
       "      <td>freezers available</td>\n",
       "      <td>outstation</td>\n",
       "      <td>outlet_code_4176</td>\n",
       "      <td>83</td>\n",
       "    </tr>\n",
       "    <tr>\n",
       "      <th>3</th>\n",
       "      <td>5/22/2023</td>\n",
       "      <td>37mm</td>\n",
       "      <td>freezers available</td>\n",
       "      <td>outstation</td>\n",
       "      <td>outlet_code_1459</td>\n",
       "      <td>106</td>\n",
       "    </tr>\n",
       "    <tr>\n",
       "      <th>4</th>\n",
       "      <td>3/27/2023</td>\n",
       "      <td>7mm</td>\n",
       "      <td>freezers available</td>\n",
       "      <td>outstation</td>\n",
       "      <td>outlet_code_38</td>\n",
       "      <td>43</td>\n",
       "    </tr>\n",
       "  </tbody>\n",
       "</table>\n",
       "</div>"
      ],
      "text/plain": [
       "  week_start_date expected_rainfall         freezer_status outlet_region  \\\n",
       "0       5/22/2023              57mm    freezers available     outstation   \n",
       "1       5/29/2023               8mm    freezers available     outstation   \n",
       "2        5/8/2023          170.57mm    freezers available     outstation   \n",
       "3       5/22/2023              37mm    freezers available     outstation   \n",
       "4       3/27/2023               7mm    freezers available     outstation   \n",
       "\n",
       "        outlet_code  sales_quantity  \n",
       "0  outlet_code_3254              95  \n",
       "1  outlet_code_1859             107  \n",
       "2  outlet_code_4176              83  \n",
       "3  outlet_code_1459             106  \n",
       "4    outlet_code_38              43  "
      ]
     },
     "execution_count": 3,
     "metadata": {},
     "output_type": "execute_result"
    }
   ],
   "source": [
    "train.head()"
   ]
  },
  {
   "cell_type": "code",
   "execution_count": 4,
   "id": "3794682a-62ec-45ed-9d6b-59206dbf8169",
   "metadata": {},
   "outputs": [
    {
     "data": {
      "text/plain": [
       "(113400, 6)"
      ]
     },
     "execution_count": 4,
     "metadata": {},
     "output_type": "execute_result"
    }
   ],
   "source": [
    "train.shape"
   ]
  },
  {
   "cell_type": "code",
   "execution_count": 5,
   "id": "a284b493-01ba-410f-b692-5b260c4572d5",
   "metadata": {},
   "outputs": [],
   "source": [
    "df = train.copy()"
   ]
  },
  {
   "cell_type": "code",
   "execution_count": 6,
   "id": "3ba702c8-3ed2-43ba-ac3b-905fda788de6",
   "metadata": {},
   "outputs": [
    {
     "data": {
      "text/html": [
       "<div>\n",
       "<style scoped>\n",
       "    .dataframe tbody tr th:only-of-type {\n",
       "        vertical-align: middle;\n",
       "    }\n",
       "\n",
       "    .dataframe tbody tr th {\n",
       "        vertical-align: top;\n",
       "    }\n",
       "\n",
       "    .dataframe thead th {\n",
       "        text-align: right;\n",
       "    }\n",
       "</style>\n",
       "<table border=\"1\" class=\"dataframe\">\n",
       "  <thead>\n",
       "    <tr style=\"text-align: right;\">\n",
       "      <th></th>\n",
       "      <th>week_start_date</th>\n",
       "      <th>expected_rainfall</th>\n",
       "      <th>freezer_status</th>\n",
       "      <th>outlet_region</th>\n",
       "      <th>outlet_code</th>\n",
       "      <th>sales_quantity</th>\n",
       "    </tr>\n",
       "  </thead>\n",
       "  <tbody>\n",
       "    <tr>\n",
       "      <th>0</th>\n",
       "      <td>5/22/2023</td>\n",
       "      <td>57mm</td>\n",
       "      <td>freezers available</td>\n",
       "      <td>outstation</td>\n",
       "      <td>outlet_code_3254</td>\n",
       "      <td>95</td>\n",
       "    </tr>\n",
       "    <tr>\n",
       "      <th>1</th>\n",
       "      <td>5/29/2023</td>\n",
       "      <td>8mm</td>\n",
       "      <td>freezers available</td>\n",
       "      <td>outstation</td>\n",
       "      <td>outlet_code_1859</td>\n",
       "      <td>107</td>\n",
       "    </tr>\n",
       "    <tr>\n",
       "      <th>2</th>\n",
       "      <td>5/8/2023</td>\n",
       "      <td>170.57mm</td>\n",
       "      <td>freezers available</td>\n",
       "      <td>outstation</td>\n",
       "      <td>outlet_code_4176</td>\n",
       "      <td>83</td>\n",
       "    </tr>\n",
       "    <tr>\n",
       "      <th>3</th>\n",
       "      <td>5/22/2023</td>\n",
       "      <td>37mm</td>\n",
       "      <td>freezers available</td>\n",
       "      <td>outstation</td>\n",
       "      <td>outlet_code_1459</td>\n",
       "      <td>106</td>\n",
       "    </tr>\n",
       "    <tr>\n",
       "      <th>4</th>\n",
       "      <td>3/27/2023</td>\n",
       "      <td>7mm</td>\n",
       "      <td>freezers available</td>\n",
       "      <td>outstation</td>\n",
       "      <td>outlet_code_38</td>\n",
       "      <td>43</td>\n",
       "    </tr>\n",
       "    <tr>\n",
       "      <th>...</th>\n",
       "      <td>...</td>\n",
       "      <td>...</td>\n",
       "      <td>...</td>\n",
       "      <td>...</td>\n",
       "      <td>...</td>\n",
       "      <td>...</td>\n",
       "    </tr>\n",
       "    <tr>\n",
       "      <th>113395</th>\n",
       "      <td>4/24/2023</td>\n",
       "      <td>61mm</td>\n",
       "      <td>freezers available</td>\n",
       "      <td>western</td>\n",
       "      <td>outlet_code_2946</td>\n",
       "      <td>27</td>\n",
       "    </tr>\n",
       "    <tr>\n",
       "      <th>113396</th>\n",
       "      <td>2/20/2023</td>\n",
       "      <td>10mm</td>\n",
       "      <td>freezers available</td>\n",
       "      <td>western</td>\n",
       "      <td>outlet_code_3671</td>\n",
       "      <td>36</td>\n",
       "    </tr>\n",
       "    <tr>\n",
       "      <th>113397</th>\n",
       "      <td>6/5/2023</td>\n",
       "      <td>98.28mm</td>\n",
       "      <td>freezers available</td>\n",
       "      <td>western</td>\n",
       "      <td>outlet_code_3671</td>\n",
       "      <td>76</td>\n",
       "    </tr>\n",
       "    <tr>\n",
       "      <th>113398</th>\n",
       "      <td>6/5/2023</td>\n",
       "      <td>120.46mm</td>\n",
       "      <td>freezers available</td>\n",
       "      <td>western</td>\n",
       "      <td>outlet_code_2618</td>\n",
       "      <td>76</td>\n",
       "    </tr>\n",
       "    <tr>\n",
       "      <th>113399</th>\n",
       "      <td>5/1/2023</td>\n",
       "      <td>48mm</td>\n",
       "      <td>freezers available</td>\n",
       "      <td>western</td>\n",
       "      <td>outlet_code_1163</td>\n",
       "      <td>30</td>\n",
       "    </tr>\n",
       "  </tbody>\n",
       "</table>\n",
       "<p>113400 rows × 6 columns</p>\n",
       "</div>"
      ],
      "text/plain": [
       "       week_start_date expected_rainfall         freezer_status outlet_region  \\\n",
       "0            5/22/2023              57mm    freezers available     outstation   \n",
       "1            5/29/2023               8mm    freezers available     outstation   \n",
       "2             5/8/2023          170.57mm    freezers available     outstation   \n",
       "3            5/22/2023              37mm    freezers available     outstation   \n",
       "4            3/27/2023               7mm    freezers available     outstation   \n",
       "...                ...               ...                    ...           ...   \n",
       "113395       4/24/2023              61mm    freezers available        western   \n",
       "113396       2/20/2023              10mm    freezers available        western   \n",
       "113397        6/5/2023           98.28mm    freezers available        western   \n",
       "113398        6/5/2023          120.46mm    freezers available        western   \n",
       "113399        5/1/2023              48mm    freezers available        western   \n",
       "\n",
       "             outlet_code  sales_quantity  \n",
       "0       outlet_code_3254              95  \n",
       "1       outlet_code_1859             107  \n",
       "2       outlet_code_4176              83  \n",
       "3       outlet_code_1459             106  \n",
       "4         outlet_code_38              43  \n",
       "...                  ...             ...  \n",
       "113395  outlet_code_2946              27  \n",
       "113396  outlet_code_3671              36  \n",
       "113397  outlet_code_3671              76  \n",
       "113398  outlet_code_2618              76  \n",
       "113399  outlet_code_1163              30  \n",
       "\n",
       "[113400 rows x 6 columns]"
      ]
     },
     "execution_count": 6,
     "metadata": {},
     "output_type": "execute_result"
    }
   ],
   "source": [
    "df"
   ]
  },
  {
   "cell_type": "code",
   "execution_count": 7,
   "id": "e93c3974-c836-4628-9212-51a123fde496",
   "metadata": {},
   "outputs": [],
   "source": [
    "df = train.set_index('week_start_date')"
   ]
  },
  {
   "cell_type": "code",
   "execution_count": 8,
   "id": "f9814d4d-8380-4817-963e-ff4c4082e590",
   "metadata": {},
   "outputs": [],
   "source": [
    "df.index = pd.to_datetime(df.index)"
   ]
  },
  {
   "cell_type": "code",
   "execution_count": 9,
   "id": "9ce4870a-8c74-4f54-a0c6-17409ca25b5d",
   "metadata": {},
   "outputs": [
    {
     "data": {
      "text/plain": [
       "<Axes: xlabel='week_start_date'>"
      ]
     },
     "execution_count": 9,
     "metadata": {},
     "output_type": "execute_result"
    },
    {
     "data": {
      "image/png": "[encoded data removed]",
      "text/plain": [
       "<Figure size 640x480 with 1 Axes>"
      ]
     },
     "metadata": {},
     "output_type": "display_data"
    }
   ],
   "source": [
    "sns.lineplot(df[df.outlet_code==\"outlet_code_4\"])"
   ]
  },
  {
   "cell_type": "code",
   "execution_count": 10,
   "id": "9af7199d-b39b-46da-ac0f-3bf7b500b058",
   "metadata": {},
   "outputs": [
    {
     "data": {
      "text/plain": [
       "outlet_region\n",
       "outstation    54000\n",
       "western       40500\n",
       "upcountry     18900\n",
       "Name: count, dtype: int64"
      ]
     },
     "execution_count": 10,
     "metadata": {},
     "output_type": "execute_result"
    }
   ],
   "source": [
    "df.outlet_region.value_counts()"
   ]
  },
  {
   "cell_type": "code",
   "execution_count": 11,
   "id": "186907b3-e5da-400e-915c-225232fb38c5",
   "metadata": {},
   "outputs": [
    {
     "data": {
      "text/plain": [
       "outlet_code\n",
       "outlet_code_3254    27\n",
       "outlet_code_1374    27\n",
       "outlet_code_457     27\n",
       "outlet_code_1709    27\n",
       "outlet_code_1431    27\n",
       "                    ..\n",
       "outlet_code_4099    27\n",
       "outlet_code_3445    27\n",
       "outlet_code_3879    27\n",
       "outlet_code_1957    27\n",
       "outlet_code_3606    27\n",
       "Name: count, Length: 4200, dtype: int64"
      ]
     },
     "execution_count": 11,
     "metadata": {},
     "output_type": "execute_result"
    }
   ],
   "source": [
    "df.outlet_code.value_counts()"
   ]
  },
  {
   "cell_type": "code",
   "execution_count": 12,
   "id": "6ab96091-4d25-44fc-8d40-fe00889d6b16",
   "metadata": {},
   "outputs": [
    {
     "data": {
      "text/plain": [
       "Timedelta('26 days 00:00:00')"
      ]
     },
     "execution_count": 12,
     "metadata": {},
     "output_type": "execute_result"
    }
   ],
   "source": [
    "(df.index.max() - df.index.min())/7"
   ]
  },
  {
   "cell_type": "code",
   "execution_count": 13,
   "id": "40b5cbbd-4d2c-4348-b5e8-696dc9eed46a",
   "metadata": {},
   "outputs": [
    {
     "data": {
      "image/png": "[encoded data removed]",
      "text/plain": [
       "<Figure size 640x480 with 1 Axes>"
      ]
     },
     "metadata": {},
     "output_type": "display_data"
    }
   ],
   "source": [
    "sns.lineplot(df[\"sales_quantity\"]).set(title=\"time series of mean sales quantity\")\n",
    "plt.savefig(\"timeSeries\")\n",
    "plt.show()"
   ]
  },
  {
   "cell_type": "code",
   "execution_count": 14,
   "id": "2a9f5840-5fef-4f75-a3df-f766624bd9a2",
   "metadata": {},
   "outputs": [],
   "source": [
    "df.expected_rainfall = [float(i.replace(\"mm\", \"\")) for i in df.expected_rainfall]"
   ]
  },
  {
   "cell_type": "code",
   "execution_count": 15,
   "id": "6b407eab-01d5-4d02-92b1-53b3ebc42d31",
   "metadata": {},
   "outputs": [],
   "source": [
    "df[\"week_number\"] = df.index.isocalendar().week"
   ]
  },
  {
   "cell_type": "code",
   "execution_count": 16,
   "id": "4924fd25-87ff-455a-baa0-20cea79b62c8",
   "metadata": {},
   "outputs": [],
   "source": [
    "df.week_number = df.week_number.astype(int)"
   ]
  },
  {
   "cell_type": "code",
   "execution_count": 17,
   "id": "b35a5023-6466-4481-a815-c71dcd7c854e",
   "metadata": {},
   "outputs": [
    {
     "data": {
      "text/plain": [
       "expected_rainfall    float64\n",
       "freezer_status        object\n",
       "outlet_region         object\n",
       "outlet_code           object\n",
       "sales_quantity         int64\n",
       "week_number            int32\n",
       "dtype: object"
      ]
     },
     "execution_count": 17,
     "metadata": {},
     "output_type": "execute_result"
    }
   ],
   "source": [
    "df.dtypes"
   ]
  },
  {
   "cell_type": "code",
   "execution_count": 18,
   "id": "e2c56d6d-a2eb-447f-8344-8e61e1211012",
   "metadata": {},
   "outputs": [],
   "source": [
    "df[\"month\"] = df.index.month"
   ]
  },
  {
   "cell_type": "code",
   "execution_count": 19,
   "id": "d8740fa8-bf7c-4871-82a6-23b063aa024a",
   "metadata": {},
   "outputs": [],
   "source": [
    "k = df.groupby([\"week_number\"])[\"expected_rainfall\"].mean()\n",
    "rainy_weeks = k[k>100].index\n",
    "df[\"rain_spikes\"] = df.week_number.apply(lambda x: 1 if x in rainy_weeks else 0)"
   ]
  },
  {
   "cell_type": "code",
   "execution_count": 20,
   "id": "c1de7ec8-98e8-407e-aafa-4e0a4829d5e2",
   "metadata": {},
   "outputs": [
    {
     "data": {
      "text/html": [
       "<div>\n",
       "<style scoped>\n",
       "    .dataframe tbody tr th:only-of-type {\n",
       "        vertical-align: middle;\n",
       "    }\n",
       "\n",
       "    .dataframe tbody tr th {\n",
       "        vertical-align: top;\n",
       "    }\n",
       "\n",
       "    .dataframe thead th {\n",
       "        text-align: right;\n",
       "    }\n",
       "</style>\n",
       "<table border=\"1\" class=\"dataframe\">\n",
       "  <thead>\n",
       "    <tr style=\"text-align: right;\">\n",
       "      <th></th>\n",
       "      <th>expected_rainfall</th>\n",
       "      <th>freezer_status</th>\n",
       "      <th>outlet_region</th>\n",
       "      <th>outlet_code</th>\n",
       "      <th>sales_quantity</th>\n",
       "      <th>week_number</th>\n",
       "      <th>month</th>\n",
       "      <th>rain_spikes</th>\n",
       "    </tr>\n",
       "    <tr>\n",
       "      <th>week_start_date</th>\n",
       "      <th></th>\n",
       "      <th></th>\n",
       "      <th></th>\n",
       "      <th></th>\n",
       "      <th></th>\n",
       "      <th></th>\n",
       "      <th></th>\n",
       "      <th></th>\n",
       "    </tr>\n",
       "  </thead>\n",
       "  <tbody>\n",
       "    <tr>\n",
       "      <th>2023-05-22</th>\n",
       "      <td>57.00</td>\n",
       "      <td>freezers available</td>\n",
       "      <td>outstation</td>\n",
       "      <td>outlet_code_3254</td>\n",
       "      <td>95</td>\n",
       "      <td>21</td>\n",
       "      <td>5</td>\n",
       "      <td>0</td>\n",
       "    </tr>\n",
       "    <tr>\n",
       "      <th>2023-05-29</th>\n",
       "      <td>8.00</td>\n",
       "      <td>freezers available</td>\n",
       "      <td>outstation</td>\n",
       "      <td>outlet_code_1859</td>\n",
       "      <td>107</td>\n",
       "      <td>22</td>\n",
       "      <td>5</td>\n",
       "      <td>0</td>\n",
       "    </tr>\n",
       "    <tr>\n",
       "      <th>2023-05-08</th>\n",
       "      <td>170.57</td>\n",
       "      <td>freezers available</td>\n",
       "      <td>outstation</td>\n",
       "      <td>outlet_code_4176</td>\n",
       "      <td>83</td>\n",
       "      <td>19</td>\n",
       "      <td>5</td>\n",
       "      <td>1</td>\n",
       "    </tr>\n",
       "    <tr>\n",
       "      <th>2023-05-22</th>\n",
       "      <td>37.00</td>\n",
       "      <td>freezers available</td>\n",
       "      <td>outstation</td>\n",
       "      <td>outlet_code_1459</td>\n",
       "      <td>106</td>\n",
       "      <td>21</td>\n",
       "      <td>5</td>\n",
       "      <td>0</td>\n",
       "    </tr>\n",
       "    <tr>\n",
       "      <th>2023-03-27</th>\n",
       "      <td>7.00</td>\n",
       "      <td>freezers available</td>\n",
       "      <td>outstation</td>\n",
       "      <td>outlet_code_38</td>\n",
       "      <td>43</td>\n",
       "      <td>13</td>\n",
       "      <td>3</td>\n",
       "      <td>0</td>\n",
       "    </tr>\n",
       "    <tr>\n",
       "      <th>...</th>\n",
       "      <td>...</td>\n",
       "      <td>...</td>\n",
       "      <td>...</td>\n",
       "      <td>...</td>\n",
       "      <td>...</td>\n",
       "      <td>...</td>\n",
       "      <td>...</td>\n",
       "      <td>...</td>\n",
       "    </tr>\n",
       "    <tr>\n",
       "      <th>2023-04-24</th>\n",
       "      <td>61.00</td>\n",
       "      <td>freezers available</td>\n",
       "      <td>western</td>\n",
       "      <td>outlet_code_2946</td>\n",
       "      <td>27</td>\n",
       "      <td>17</td>\n",
       "      <td>4</td>\n",
       "      <td>0</td>\n",
       "    </tr>\n",
       "    <tr>\n",
       "      <th>2023-02-20</th>\n",
       "      <td>10.00</td>\n",
       "      <td>freezers available</td>\n",
       "      <td>western</td>\n",
       "      <td>outlet_code_3671</td>\n",
       "      <td>36</td>\n",
       "      <td>8</td>\n",
       "      <td>2</td>\n",
       "      <td>0</td>\n",
       "    </tr>\n",
       "    <tr>\n",
       "      <th>2023-06-05</th>\n",
       "      <td>98.28</td>\n",
       "      <td>freezers available</td>\n",
       "      <td>western</td>\n",
       "      <td>outlet_code_3671</td>\n",
       "      <td>76</td>\n",
       "      <td>23</td>\n",
       "      <td>6</td>\n",
       "      <td>1</td>\n",
       "    </tr>\n",
       "    <tr>\n",
       "      <th>2023-06-05</th>\n",
       "      <td>120.46</td>\n",
       "      <td>freezers available</td>\n",
       "      <td>western</td>\n",
       "      <td>outlet_code_2618</td>\n",
       "      <td>76</td>\n",
       "      <td>23</td>\n",
       "      <td>6</td>\n",
       "      <td>1</td>\n",
       "    </tr>\n",
       "    <tr>\n",
       "      <th>2023-05-01</th>\n",
       "      <td>48.00</td>\n",
       "      <td>freezers available</td>\n",
       "      <td>western</td>\n",
       "      <td>outlet_code_1163</td>\n",
       "      <td>30</td>\n",
       "      <td>18</td>\n",
       "      <td>5</td>\n",
       "      <td>0</td>\n",
       "    </tr>\n",
       "  </tbody>\n",
       "</table>\n",
       "<p>113400 rows × 8 columns</p>\n",
       "</div>"
      ],
      "text/plain": [
       "                 expected_rainfall         freezer_status outlet_region  \\\n",
       "week_start_date                                                           \n",
       "2023-05-22                   57.00    freezers available     outstation   \n",
       "2023-05-29                    8.00    freezers available     outstation   \n",
       "2023-05-08                  170.57    freezers available     outstation   \n",
       "2023-05-22                   37.00    freezers available     outstation   \n",
       "2023-03-27                    7.00    freezers available     outstation   \n",
       "...                            ...                    ...           ...   \n",
       "2023-04-24                   61.00    freezers available        western   \n",
       "2023-02-20                   10.00    freezers available        western   \n",
       "2023-06-05                   98.28    freezers available        western   \n",
       "2023-06-05                  120.46    freezers available        western   \n",
       "2023-05-01                   48.00    freezers available        western   \n",
       "\n",
       "                      outlet_code  sales_quantity  week_number  month  \\\n",
       "week_start_date                                                         \n",
       "2023-05-22       outlet_code_3254              95           21      5   \n",
       "2023-05-29       outlet_code_1859             107           22      5   \n",
       "2023-05-08       outlet_code_4176              83           19      5   \n",
       "2023-05-22       outlet_code_1459             106           21      5   \n",
       "2023-03-27         outlet_code_38              43           13      3   \n",
       "...                           ...             ...          ...    ...   \n",
       "2023-04-24       outlet_code_2946              27           17      4   \n",
       "2023-02-20       outlet_code_3671              36            8      2   \n",
       "2023-06-05       outlet_code_3671              76           23      6   \n",
       "2023-06-05       outlet_code_2618              76           23      6   \n",
       "2023-05-01       outlet_code_1163              30           18      5   \n",
       "\n",
       "                 rain_spikes  \n",
       "week_start_date               \n",
       "2023-05-22                 0  \n",
       "2023-05-29                 0  \n",
       "2023-05-08                 1  \n",
       "2023-05-22                 0  \n",
       "2023-03-27                 0  \n",
       "...                      ...  \n",
       "2023-04-24                 0  \n",
       "2023-02-20                 0  \n",
       "2023-06-05                 1  \n",
       "2023-06-05                 1  \n",
       "2023-05-01                 0  \n",
       "\n",
       "[113400 rows x 8 columns]"
      ]
     },
     "execution_count": 20,
     "metadata": {},
     "output_type": "execute_result"
    }
   ],
   "source": [
    "df"
   ]
  },
  {
   "cell_type": "code",
   "execution_count": 21,
   "id": "7a19be9d-2b07-4f60-be72-a197ca2455a9",
   "metadata": {},
   "outputs": [],
   "source": [
    "df.freezer_status = df.freezer_status.apply(lambda x : 1 if x.replace(\" \", \"\") == \"freezersavailable\" else 0)"
   ]
  },
  {
   "cell_type": "code",
   "execution_count": 22,
   "id": "c477f22f-0f19-45fd-bc4b-98dccffbabce",
   "metadata": {},
   "outputs": [],
   "source": [
    "df.sort_index(inplace=True)"
   ]
  },
  {
   "cell_type": "code",
   "execution_count": 23,
   "id": "bda95e94-0d14-4b65-ae2f-0698394d2d16",
   "metadata": {},
   "outputs": [
    {
     "data": {
      "text/html": [
       "<div>\n",
       "<style scoped>\n",
       "    .dataframe tbody tr th:only-of-type {\n",
       "        vertical-align: middle;\n",
       "    }\n",
       "\n",
       "    .dataframe tbody tr th {\n",
       "        vertical-align: top;\n",
       "    }\n",
       "\n",
       "    .dataframe thead th {\n",
       "        text-align: right;\n",
       "    }\n",
       "</style>\n",
       "<table border=\"1\" class=\"dataframe\">\n",
       "  <thead>\n",
       "    <tr style=\"text-align: right;\">\n",
       "      <th></th>\n",
       "      <th>expected_rainfall</th>\n",
       "      <th>freezer_status</th>\n",
       "      <th>outlet_region</th>\n",
       "      <th>outlet_code</th>\n",
       "      <th>sales_quantity</th>\n",
       "      <th>week_number</th>\n",
       "      <th>month</th>\n",
       "      <th>rain_spikes</th>\n",
       "    </tr>\n",
       "    <tr>\n",
       "      <th>week_start_date</th>\n",
       "      <th></th>\n",
       "      <th></th>\n",
       "      <th></th>\n",
       "      <th></th>\n",
       "      <th></th>\n",
       "      <th></th>\n",
       "      <th></th>\n",
       "      <th></th>\n",
       "    </tr>\n",
       "  </thead>\n",
       "  <tbody>\n",
       "    <tr>\n",
       "      <th>2023-01-02</th>\n",
       "      <td>44.0</td>\n",
       "      <td>1</td>\n",
       "      <td>outstation</td>\n",
       "      <td>outlet_code_782</td>\n",
       "      <td>13</td>\n",
       "      <td>1</td>\n",
       "      <td>1</td>\n",
       "      <td>0</td>\n",
       "    </tr>\n",
       "    <tr>\n",
       "      <th>2023-01-02</th>\n",
       "      <td>49.0</td>\n",
       "      <td>0</td>\n",
       "      <td>outstation</td>\n",
       "      <td>outlet_code_1001</td>\n",
       "      <td>9</td>\n",
       "      <td>1</td>\n",
       "      <td>1</td>\n",
       "      <td>0</td>\n",
       "    </tr>\n",
       "    <tr>\n",
       "      <th>2023-01-02</th>\n",
       "      <td>43.0</td>\n",
       "      <td>1</td>\n",
       "      <td>outstation</td>\n",
       "      <td>outlet_code_903</td>\n",
       "      <td>31</td>\n",
       "      <td>1</td>\n",
       "      <td>1</td>\n",
       "      <td>0</td>\n",
       "    </tr>\n",
       "    <tr>\n",
       "      <th>2023-01-02</th>\n",
       "      <td>5.0</td>\n",
       "      <td>1</td>\n",
       "      <td>upcountry</td>\n",
       "      <td>outlet_code_1563</td>\n",
       "      <td>17</td>\n",
       "      <td>1</td>\n",
       "      <td>1</td>\n",
       "      <td>0</td>\n",
       "    </tr>\n",
       "    <tr>\n",
       "      <th>2023-01-02</th>\n",
       "      <td>86.0</td>\n",
       "      <td>0</td>\n",
       "      <td>outstation</td>\n",
       "      <td>outlet_code_1806</td>\n",
       "      <td>10</td>\n",
       "      <td>1</td>\n",
       "      <td>1</td>\n",
       "      <td>0</td>\n",
       "    </tr>\n",
       "    <tr>\n",
       "      <th>2023-01-02</th>\n",
       "      <td>75.0</td>\n",
       "      <td>0</td>\n",
       "      <td>outstation</td>\n",
       "      <td>outlet_code_3165</td>\n",
       "      <td>6</td>\n",
       "      <td>1</td>\n",
       "      <td>1</td>\n",
       "      <td>0</td>\n",
       "    </tr>\n",
       "    <tr>\n",
       "      <th>2023-01-02</th>\n",
       "      <td>33.0</td>\n",
       "      <td>1</td>\n",
       "      <td>western</td>\n",
       "      <td>outlet_code_3954</td>\n",
       "      <td>41</td>\n",
       "      <td>1</td>\n",
       "      <td>1</td>\n",
       "      <td>0</td>\n",
       "    </tr>\n",
       "    <tr>\n",
       "      <th>2023-01-02</th>\n",
       "      <td>14.0</td>\n",
       "      <td>1</td>\n",
       "      <td>outstation</td>\n",
       "      <td>outlet_code_304</td>\n",
       "      <td>9</td>\n",
       "      <td>1</td>\n",
       "      <td>1</td>\n",
       "      <td>0</td>\n",
       "    </tr>\n",
       "    <tr>\n",
       "      <th>2023-01-02</th>\n",
       "      <td>61.0</td>\n",
       "      <td>0</td>\n",
       "      <td>outstation</td>\n",
       "      <td>outlet_code_1015</td>\n",
       "      <td>6</td>\n",
       "      <td>1</td>\n",
       "      <td>1</td>\n",
       "      <td>0</td>\n",
       "    </tr>\n",
       "    <tr>\n",
       "      <th>2023-01-02</th>\n",
       "      <td>47.0</td>\n",
       "      <td>1</td>\n",
       "      <td>western</td>\n",
       "      <td>outlet_code_1684</td>\n",
       "      <td>51</td>\n",
       "      <td>1</td>\n",
       "      <td>1</td>\n",
       "      <td>0</td>\n",
       "    </tr>\n",
       "    <tr>\n",
       "      <th>2023-01-02</th>\n",
       "      <td>63.0</td>\n",
       "      <td>1</td>\n",
       "      <td>western</td>\n",
       "      <td>outlet_code_1637</td>\n",
       "      <td>56</td>\n",
       "      <td>1</td>\n",
       "      <td>1</td>\n",
       "      <td>0</td>\n",
       "    </tr>\n",
       "    <tr>\n",
       "      <th>2023-01-02</th>\n",
       "      <td>38.0</td>\n",
       "      <td>0</td>\n",
       "      <td>upcountry</td>\n",
       "      <td>outlet_code_1888</td>\n",
       "      <td>4</td>\n",
       "      <td>1</td>\n",
       "      <td>1</td>\n",
       "      <td>0</td>\n",
       "    </tr>\n",
       "    <tr>\n",
       "      <th>2023-01-02</th>\n",
       "      <td>78.0</td>\n",
       "      <td>0</td>\n",
       "      <td>outstation</td>\n",
       "      <td>outlet_code_3494</td>\n",
       "      <td>9</td>\n",
       "      <td>1</td>\n",
       "      <td>1</td>\n",
       "      <td>0</td>\n",
       "    </tr>\n",
       "    <tr>\n",
       "      <th>2023-01-02</th>\n",
       "      <td>66.0</td>\n",
       "      <td>1</td>\n",
       "      <td>western</td>\n",
       "      <td>outlet_code_1177</td>\n",
       "      <td>62</td>\n",
       "      <td>1</td>\n",
       "      <td>1</td>\n",
       "      <td>0</td>\n",
       "    </tr>\n",
       "    <tr>\n",
       "      <th>2023-01-02</th>\n",
       "      <td>11.0</td>\n",
       "      <td>1</td>\n",
       "      <td>upcountry</td>\n",
       "      <td>outlet_code_1450</td>\n",
       "      <td>43</td>\n",
       "      <td>1</td>\n",
       "      <td>1</td>\n",
       "      <td>0</td>\n",
       "    </tr>\n",
       "    <tr>\n",
       "      <th>2023-01-02</th>\n",
       "      <td>90.0</td>\n",
       "      <td>0</td>\n",
       "      <td>upcountry</td>\n",
       "      <td>outlet_code_4106</td>\n",
       "      <td>4</td>\n",
       "      <td>1</td>\n",
       "      <td>1</td>\n",
       "      <td>0</td>\n",
       "    </tr>\n",
       "    <tr>\n",
       "      <th>2023-01-02</th>\n",
       "      <td>30.0</td>\n",
       "      <td>1</td>\n",
       "      <td>outstation</td>\n",
       "      <td>outlet_code_2648</td>\n",
       "      <td>15</td>\n",
       "      <td>1</td>\n",
       "      <td>1</td>\n",
       "      <td>0</td>\n",
       "    </tr>\n",
       "    <tr>\n",
       "      <th>2023-01-02</th>\n",
       "      <td>29.0</td>\n",
       "      <td>1</td>\n",
       "      <td>western</td>\n",
       "      <td>outlet_code_2148</td>\n",
       "      <td>21</td>\n",
       "      <td>1</td>\n",
       "      <td>1</td>\n",
       "      <td>0</td>\n",
       "    </tr>\n",
       "    <tr>\n",
       "      <th>2023-01-02</th>\n",
       "      <td>3.0</td>\n",
       "      <td>1</td>\n",
       "      <td>outstation</td>\n",
       "      <td>outlet_code_3302</td>\n",
       "      <td>14</td>\n",
       "      <td>1</td>\n",
       "      <td>1</td>\n",
       "      <td>0</td>\n",
       "    </tr>\n",
       "    <tr>\n",
       "      <th>2023-01-02</th>\n",
       "      <td>34.0</td>\n",
       "      <td>0</td>\n",
       "      <td>outstation</td>\n",
       "      <td>outlet_code_372</td>\n",
       "      <td>10</td>\n",
       "      <td>1</td>\n",
       "      <td>1</td>\n",
       "      <td>0</td>\n",
       "    </tr>\n",
       "    <tr>\n",
       "      <th>2023-01-02</th>\n",
       "      <td>84.0</td>\n",
       "      <td>1</td>\n",
       "      <td>outstation</td>\n",
       "      <td>outlet_code_2580</td>\n",
       "      <td>18</td>\n",
       "      <td>1</td>\n",
       "      <td>1</td>\n",
       "      <td>0</td>\n",
       "    </tr>\n",
       "    <tr>\n",
       "      <th>2023-01-02</th>\n",
       "      <td>5.0</td>\n",
       "      <td>1</td>\n",
       "      <td>upcountry</td>\n",
       "      <td>outlet_code_4150</td>\n",
       "      <td>18</td>\n",
       "      <td>1</td>\n",
       "      <td>1</td>\n",
       "      <td>0</td>\n",
       "    </tr>\n",
       "    <tr>\n",
       "      <th>2023-01-02</th>\n",
       "      <td>22.0</td>\n",
       "      <td>0</td>\n",
       "      <td>outstation</td>\n",
       "      <td>outlet_code_4063</td>\n",
       "      <td>6</td>\n",
       "      <td>1</td>\n",
       "      <td>1</td>\n",
       "      <td>0</td>\n",
       "    </tr>\n",
       "    <tr>\n",
       "      <th>2023-01-02</th>\n",
       "      <td>20.0</td>\n",
       "      <td>1</td>\n",
       "      <td>upcountry</td>\n",
       "      <td>outlet_code_844</td>\n",
       "      <td>24</td>\n",
       "      <td>1</td>\n",
       "      <td>1</td>\n",
       "      <td>0</td>\n",
       "    </tr>\n",
       "    <tr>\n",
       "      <th>2023-01-02</th>\n",
       "      <td>49.0</td>\n",
       "      <td>1</td>\n",
       "      <td>outstation</td>\n",
       "      <td>outlet_code_1668</td>\n",
       "      <td>24</td>\n",
       "      <td>1</td>\n",
       "      <td>1</td>\n",
       "      <td>0</td>\n",
       "    </tr>\n",
       "    <tr>\n",
       "      <th>2023-01-02</th>\n",
       "      <td>13.0</td>\n",
       "      <td>1</td>\n",
       "      <td>western</td>\n",
       "      <td>outlet_code_1280</td>\n",
       "      <td>36</td>\n",
       "      <td>1</td>\n",
       "      <td>1</td>\n",
       "      <td>0</td>\n",
       "    </tr>\n",
       "    <tr>\n",
       "      <th>2023-01-02</th>\n",
       "      <td>9.0</td>\n",
       "      <td>1</td>\n",
       "      <td>outstation</td>\n",
       "      <td>outlet_code_1185</td>\n",
       "      <td>45</td>\n",
       "      <td>1</td>\n",
       "      <td>1</td>\n",
       "      <td>0</td>\n",
       "    </tr>\n",
       "  </tbody>\n",
       "</table>\n",
       "</div>"
      ],
      "text/plain": [
       "                 expected_rainfall  freezer_status outlet_region  \\\n",
       "week_start_date                                                    \n",
       "2023-01-02                    44.0               1    outstation   \n",
       "2023-01-02                    49.0               0    outstation   \n",
       "2023-01-02                    43.0               1    outstation   \n",
       "2023-01-02                     5.0               1     upcountry   \n",
       "2023-01-02                    86.0               0    outstation   \n",
       "2023-01-02                    75.0               0    outstation   \n",
       "2023-01-02                    33.0               1       western   \n",
       "2023-01-02                    14.0               1    outstation   \n",
       "2023-01-02                    61.0               0    outstation   \n",
       "2023-01-02                    47.0               1       western   \n",
       "2023-01-02                    63.0               1       western   \n",
       "2023-01-02                    38.0               0     upcountry   \n",
       "2023-01-02                    78.0               0    outstation   \n",
       "2023-01-02                    66.0               1       western   \n",
       "2023-01-02                    11.0               1     upcountry   \n",
       "2023-01-02                    90.0               0     upcountry   \n",
       "2023-01-02                    30.0               1    outstation   \n",
       "2023-01-02                    29.0               1       western   \n",
       "2023-01-02                     3.0               1    outstation   \n",
       "2023-01-02                    34.0               0    outstation   \n",
       "2023-01-02                    84.0               1    outstation   \n",
       "2023-01-02                     5.0               1     upcountry   \n",
       "2023-01-02                    22.0               0    outstation   \n",
       "2023-01-02                    20.0               1     upcountry   \n",
       "2023-01-02                    49.0               1    outstation   \n",
       "2023-01-02                    13.0               1       western   \n",
       "2023-01-02                     9.0               1    outstation   \n",
       "\n",
       "                      outlet_code  sales_quantity  week_number  month  \\\n",
       "week_start_date                                                         \n",
       "2023-01-02        outlet_code_782              13            1      1   \n",
       "2023-01-02       outlet_code_1001               9            1      1   \n",
       "2023-01-02        outlet_code_903              31            1      1   \n",
       "2023-01-02       outlet_code_1563              17            1      1   \n",
       "2023-01-02       outlet_code_1806              10            1      1   \n",
       "2023-01-02       outlet_code_3165               6            1      1   \n",
       "2023-01-02       outlet_code_3954              41            1      1   \n",
       "2023-01-02        outlet_code_304               9            1      1   \n",
       "2023-01-02       outlet_code_1015               6            1      1   \n",
       "2023-01-02       outlet_code_1684              51            1      1   \n",
       "2023-01-02       outlet_code_1637              56            1      1   \n",
       "2023-01-02       outlet_code_1888               4            1      1   \n",
       "2023-01-02       outlet_code_3494               9            1      1   \n",
       "2023-01-02       outlet_code_1177              62            1      1   \n",
       "2023-01-02       outlet_code_1450              43            1      1   \n",
       "2023-01-02       outlet_code_4106               4            1      1   \n",
       "2023-01-02       outlet_code_2648              15            1      1   \n",
       "2023-01-02       outlet_code_2148              21            1      1   \n",
       "2023-01-02       outlet_code_3302              14            1      1   \n",
       "2023-01-02        outlet_code_372              10            1      1   \n",
       "2023-01-02       outlet_code_2580              18            1      1   \n",
       "2023-01-02       outlet_code_4150              18            1      1   \n",
       "2023-01-02       outlet_code_4063               6            1      1   \n",
       "2023-01-02        outlet_code_844              24            1      1   \n",
       "2023-01-02       outlet_code_1668              24            1      1   \n",
       "2023-01-02       outlet_code_1280              36            1      1   \n",
       "2023-01-02       outlet_code_1185              45            1      1   \n",
       "\n",
       "                 rain_spikes  \n",
       "week_start_date               \n",
       "2023-01-02                 0  \n",
       "2023-01-02                 0  \n",
       "2023-01-02                 0  \n",
       "2023-01-02                 0  \n",
       "2023-01-02                 0  \n",
       "2023-01-02                 0  \n",
       "2023-01-02                 0  \n",
       "2023-01-02                 0  \n",
       "2023-01-02                 0  \n",
       "2023-01-02                 0  \n",
       "2023-01-02                 0  \n",
       "2023-01-02                 0  \n",
       "2023-01-02                 0  \n",
       "2023-01-02                 0  \n",
       "2023-01-02                 0  \n",
       "2023-01-02                 0  \n",
       "2023-01-02                 0  \n",
       "2023-01-02                 0  \n",
       "2023-01-02                 0  \n",
       "2023-01-02                 0  \n",
       "2023-01-02                 0  \n",
       "2023-01-02                 0  \n",
       "2023-01-02                 0  \n",
       "2023-01-02                 0  \n",
       "2023-01-02                 0  \n",
       "2023-01-02                 0  \n",
       "2023-01-02                 0  "
      ]
     },
     "execution_count": 23,
     "metadata": {},
     "output_type": "execute_result"
    }
   ],
   "source": [
    "df.head(27)"
   ]
  },
  {
   "cell_type": "markdown",
   "id": "92750abd-7bc0-4f23-b901-ee8ca071f27b",
   "metadata": {},
   "source": [
    "## EDA"
   ]
  },
  {
   "cell_type": "code",
   "execution_count": 26,
   "id": "19e6a359-ca66-4410-804e-cd488dd92339",
   "metadata": {},
   "outputs": [],
   "source": [
    "outlets = df.outlet_region.unique()"
   ]
  },
  {
   "cell_type": "code",
   "execution_count": 43,
   "id": "edbfa53d-c816-449c-a64c-0fe56d5cf5b4",
   "metadata": {},
   "outputs": [],
   "source": [
    "outletRegUniqCode = {}\n",
    "for i in [0, 1, 2]:\n",
    "    outletRegUniqCode[outlets[i]] = df[df.outlet_region == outlets[i]].groupby([\"outlet_code\"])[\"outlet_code\"].unique().count()"
   ]
  },
  {
   "cell_type": "code",
   "execution_count": 77,
   "id": "a3e8008a-66d5-4653-bad4-074ebbde9388",
   "metadata": {},
   "outputs": [
    {
     "data": {
      "text/html": [
       "<div>\n",
       "<style scoped>\n",
       "    .dataframe tbody tr th:only-of-type {\n",
       "        vertical-align: middle;\n",
       "    }\n",
       "\n",
       "    .dataframe tbody tr th {\n",
       "        vertical-align: top;\n",
       "    }\n",
       "\n",
       "    .dataframe thead th {\n",
       "        text-align: right;\n",
       "    }\n",
       "</style>\n",
       "<table border=\"1\" class=\"dataframe\">\n",
       "  <thead>\n",
       "    <tr style=\"text-align: right;\">\n",
       "      <th></th>\n",
       "      <th>outstation</th>\n",
       "      <th>upcountry</th>\n",
       "      <th>western</th>\n",
       "    </tr>\n",
       "  </thead>\n",
       "  <tbody>\n",
       "    <tr>\n",
       "      <th>0</th>\n",
       "      <td>2000</td>\n",
       "      <td>700</td>\n",
       "      <td>1500</td>\n",
       "    </tr>\n",
       "  </tbody>\n",
       "</table>\n",
       "</div>"
      ],
      "text/plain": [
       "   outstation  upcountry  western\n",
       "0        2000        700     1500"
      ]
     },
     "execution_count": 77,
     "metadata": {},
     "output_type": "execute_result"
    }
   ],
   "source": [
    "pd.DataFrame([outletRegUniqCode])"
   ]
  },
  {
   "cell_type": "code",
   "execution_count": 47,
   "id": "e4f70280-1d02-4513-92fc-a35416785b7d",
   "metadata": {},
   "outputs": [
    {
     "data": {
      "text/plain": [
       "dict_values([2000, 700, 1500])"
      ]
     },
     "execution_count": 47,
     "metadata": {},
     "output_type": "execute_result"
    }
   ],
   "source": [
    "outletRegUniqCode.values()"
   ]
  },
  {
   "cell_type": "code",
   "execution_count": 69,
   "id": "b8d6591c-f695-4f30-8fa2-d6c1fc2b1f50",
   "metadata": {},
   "outputs": [
    {
     "data": {
      "image/png": "[encoded data removed]",
      "text/plain": [
       "<Figure size 640x480 with 1 Axes>"
      ]
     },
     "metadata": {},
     "output_type": "display_data"
    }
   ],
   "source": [
    "plt.pie(outletRegUniqCode.values(), labels=outlets, autopct=\"%d%%\")\n",
    "plt.title(\"percentage of outlets in each region\")\n",
    "plt.savefig(\"pieoutletcount\")\n",
    "plt.show()"
   ]
  },
  {
   "cell_type": "code",
   "execution_count": null,
   "id": "463f386c-b4bf-4d08-89ff-06ba6dae5732",
   "metadata": {},
   "outputs": [],
   "source": []
  },
  {
   "cell_type": "code",
   "execution_count": null,
   "id": "ba3e104c-74c6-4a48-83b5-3c534e05938e",
   "metadata": {},
   "outputs": [],
   "source": []
  },
  {
   "cell_type": "code",
   "execution_count": null,
   "id": "a6565c59-1fd3-409d-9cda-fa676307b505",
   "metadata": {},
   "outputs": [],
   "source": []
  },
  {
   "cell_type": "code",
   "execution_count": null,
   "id": "b3c7960d-9a36-410d-ad64-923b7a6a427a",
   "metadata": {},
   "outputs": [],
   "source": [
    "sns.lineplot(df.groupby([\"week_number\"])[\"sales_quantity\"].mean())\n",
    "plt.show()"
   ]
  },
  {
   "cell_type": "code",
   "execution_count": null,
   "id": "881f9a1d-3a04-4849-b141-11a63404c694",
   "metadata": {},
   "outputs": [],
   "source": [
    "sns.lineplot(y=\"sales_quantity\", hue=\"freezer_status\", x=\"week_number\", data=df)"
   ]
  },
  {
   "cell_type": "code",
   "execution_count": null,
   "id": "ab83b5d4-5e43-4fe4-82b6-0b3c55043890",
   "metadata": {},
   "outputs": [],
   "source": [
    "df.freezer_status.value_counts().values"
   ]
  },
  {
   "cell_type": "code",
   "execution_count": null,
   "id": "290cb285-2d66-417b-936a-5876787c05b8",
   "metadata": {},
   "outputs": [],
   "source": [
    "plt.pie(df.freezer_status.value_counts().values, labels=df.freezer_status.value_counts().index)\n",
    "plt.show()"
   ]
  },
  {
   "cell_type": "code",
   "execution_count": null,
   "id": "39fc4f49-63e5-4c1b-bb2b-72585b81c51e",
   "metadata": {},
   "outputs": [],
   "source": [
    "df"
   ]
  },
  {
   "cell_type": "code",
   "execution_count": null,
   "id": "9a175641-5342-4ac3-8733-4a709bab2572",
   "metadata": {},
   "outputs": [],
   "source": [
    "sns.barplot(y=df.groupby([\"outlet_region\"])[\"sales_quantity\"].mean(), x=df.outlet_region.unique())"
   ]
  },
  {
   "cell_type": "code",
   "execution_count": null,
   "id": "a962d99d-c703-4702-b484-01203cf049ee",
   "metadata": {},
   "outputs": [],
   "source": [
    "outlets = df.outlet_region.unique()"
   ]
  },
  {
   "cell_type": "code",
   "execution_count": null,
   "id": "9a098d3f-6d99-4d93-89ac-c2d01a1c3de5",
   "metadata": {},
   "outputs": [],
   "source": [
    "# sns.lineplot(df[df[\"outlet_region\"]==outlets[0]].expected_rainfall)\n",
    "# sns.lineplot(df[df[\"outlet_region\"]==outlets[1]].expected_rainfall)\n",
    "# sns.lineplot(df[df[\"outlet_region\"]==outlets[2]].expected_rainfall)\n",
    "sns.lineplot(y=\"expected_rainfall\", x=df.index, data=df, hue=\"outlet_region\")"
   ]
  },
  {
   "cell_type": "code",
   "execution_count": null,
   "id": "2d310b5c-7ff4-4738-a044-8ea334df1f25",
   "metadata": {},
   "outputs": [],
   "source": [
    "# sns.lineplot(df[df[\"outlet_region\"]==outlets[0]].sales_quantity)\n",
    "# sns.lineplot(df[df[\"outlet_region\"]==outlets[1]].sales_quantity)\n",
    "# sns.lineplot(df[df[\"outlet_region\"]==outlets[2]].sales_quantity)\n",
    "sns.lineplot(y=\"sales_quantity\", hue=\"outlet_region\", x=df.index, data=df)\n"
   ]
  },
  {
   "cell_type": "code",
   "execution_count": null,
   "id": "ed748336-1f41-4617-8c09-0d9ade2fe83c",
   "metadata": {},
   "outputs": [],
   "source": [
    "df_upcountry = df[df[\"outlet_region\"] == outlets[1]]"
   ]
  },
  {
   "cell_type": "code",
   "execution_count": null,
   "id": "b1044540-097d-4af8-9748-af897aa2038b",
   "metadata": {},
   "outputs": [],
   "source": [
    "df_upcountry.groupby([\"week_number\"])[\"sales_quantity\"].mean()"
   ]
  },
  {
   "cell_type": "code",
   "execution_count": null,
   "id": "54d654f6-a596-4bb0-b4f8-0065633d1e1e",
   "metadata": {},
   "outputs": [],
   "source": [
    "plt.plot(df_upcountry.groupby([\"week_number\"])[\"sales_quantity\"].mean())"
   ]
  },
  {
   "cell_type": "markdown",
   "id": "94126452-9554-4003-9b99-24c41e595e0f",
   "metadata": {},
   "source": [
    "## categorical encoding"
   ]
  },
  {
   "cell_type": "code",
   "execution_count": null,
   "id": "050a38ce-a35a-4bc3-82bc-a9eadf0654d1",
   "metadata": {},
   "outputs": [],
   "source": [
    "from sklearn.preprocessing import OneHotEncoder"
   ]
  },
  {
   "cell_type": "code",
   "execution_count": null,
   "id": "a76d6046-352b-4d11-b673-d71e81059daf",
   "metadata": {},
   "outputs": [],
   "source": [
    "encoder = OneHotEncoder()"
   ]
  },
  {
   "cell_type": "code",
   "execution_count": null,
   "id": "cafdbe5e-5d0e-49af-ac6c-7b687df903fa",
   "metadata": {},
   "outputs": [],
   "source": [
    "region = df.outlet_region.values"
   ]
  },
  {
   "cell_type": "code",
   "execution_count": null,
   "id": "edbc91ef-9007-4452-9499-0e4c468631a2",
   "metadata": {},
   "outputs": [],
   "source": [
    "df"
   ]
  },
  {
   "cell_type": "code",
   "execution_count": null,
   "id": "6d64a1a6-0590-4b3e-b343-6b96378abb6b",
   "metadata": {},
   "outputs": [],
   "source": [
    "region_hot = pd.DataFrame(encoder.fit_transform(region.reshape(-1, 1)).toarray(), columns=outlets)\n",
    "region_hot.index = df.index\n",
    "region_hot"
   ]
  },
  {
   "cell_type": "code",
   "execution_count": null,
   "id": "641fdc50-55e1-4fd9-ba4f-ea59f192eab0",
   "metadata": {},
   "outputs": [],
   "source": [
    "df = pd.concat([df, region_hot], axis=1).drop(\"outlet_region\", axis=1)"
   ]
  },
  {
   "cell_type": "code",
   "execution_count": null,
   "id": "2330699f-ebfb-4a4d-ac33-0241a138ca89",
   "metadata": {},
   "outputs": [],
   "source": [
    "df"
   ]
  },
  {
   "cell_type": "code",
   "execution_count": null,
   "id": "4d02335b-188b-4d87-a469-ce7932bcc443",
   "metadata": {},
   "outputs": [],
   "source": []
  },
  {
   "cell_type": "code",
   "execution_count": null,
   "id": "cc1047af-2788-452f-97fc-51c799a63209",
   "metadata": {},
   "outputs": [],
   "source": []
  },
  {
   "cell_type": "code",
   "execution_count": null,
   "id": "2cb15369-262b-46e5-bad5-0ac3e5d73101",
   "metadata": {},
   "outputs": [],
   "source": []
  },
  {
   "cell_type": "markdown",
   "id": "7508908f-a9b5-4c00-a742-b2ee6016a8c8",
   "metadata": {},
   "source": [
    "## model fitting"
   ]
  },
  {
   "cell_type": "code",
   "execution_count": null,
   "id": "1073c40b-c5f0-4820-8730-7c542ea232f4",
   "metadata": {},
   "outputs": [],
   "source": [
    "df.head(5)"
   ]
  },
  {
   "cell_type": "code",
   "execution_count": null,
   "id": "059f1275-f944-42d0-b77e-c6aaa01cbce3",
   "metadata": {},
   "outputs": [],
   "source": [
    "data = df.groupby([\"outlet_code\"])"
   ]
  },
  {
   "cell_type": "code",
   "execution_count": null,
   "id": "534f48c7-7027-4c0b-b98d-38776a9388c0",
   "metadata": {},
   "outputs": [],
   "source": [
    "#for i in data:"
   ]
  },
  {
   "cell_type": "code",
   "execution_count": null,
   "id": "48140c03-7e9d-49ab-b590-5d6a1a90f451",
   "metadata": {},
   "outputs": [],
   "source": [
    "import xgboost as xgb"
   ]
  },
  {
   "cell_type": "code",
   "execution_count": null,
   "id": "c7d4949e-a954-4a73-8e7f-13f3d23f3cb6",
   "metadata": {},
   "outputs": [],
   "source": [
    "reg = xgb.XGBRegressor(base_score=0.5, booster='gbtree',\n",
    "                       n_estimators=1000,\n",
    "                       #early_stopping_rounds=50,\n",
    "                       objective='reg:linear',\n",
    "                       max_depth=3,\n",
    "                       learning_rate=0.01)"
   ]
  },
  {
   "cell_type": "code",
   "execution_count": null,
   "id": "342e88e8-1fea-4473-8123-05bd610c83df",
   "metadata": {},
   "outputs": [],
   "source": [
    "train = df[df.week_number <= 22]\n",
    "test = df[df.week_number > 22]"
   ]
  },
  {
   "cell_type": "code",
   "execution_count": null,
   "id": "e006d39f-4e34-4a7b-b397-3b0b989d1f77",
   "metadata": {},
   "outputs": [],
   "source": [
    "features = list(train.columns)\n",
    "features.remove('sales_quantity')\n",
    "features"
   ]
  },
  {
   "cell_type": "code",
   "execution_count": null,
   "id": "735f40d0-6c66-4037-8bcc-5801458e02fc",
   "metadata": {},
   "outputs": [],
   "source": [
    "X_train = train[features]\n",
    "y_train = train.sales_quantity"
   ]
  },
  {
   "cell_type": "code",
   "execution_count": null,
   "id": "d20badb2-15c1-4c20-8d13-b786ed28d40f",
   "metadata": {},
   "outputs": [],
   "source": [
    "len(X_train), len(y_train)"
   ]
  },
  {
   "cell_type": "code",
   "execution_count": null,
   "id": "3367eab7-2ee3-4f08-b398-06e889a06f72",
   "metadata": {},
   "outputs": [],
   "source": [
    "X_test = test[features]\n",
    "y_test = test.sales_quantity"
   ]
  },
  {
   "cell_type": "code",
   "execution_count": null,
   "id": "9f88e1df-d821-4242-986e-7f6f08e18d06",
   "metadata": {},
   "outputs": [],
   "source": [
    "np.array(X_train.outlet_code == \"outlet_code_3\")"
   ]
  },
  {
   "cell_type": "code",
   "execution_count": null,
   "id": "293801c2-431c-4d70-a08f-b51d0d70656f",
   "metadata": {},
   "outputs": [],
   "source": [
    "X_train_ = X_train[X_train.outlet_code == \"outlet_code_3\"]\n",
    "y_train_= y_train[np.array(X_train.outlet_code == \"outlet_code_3\")]"
   ]
  },
  {
   "cell_type": "code",
   "execution_count": null,
   "id": "14a6633f-419d-4471-8db7-b19ef16cdfb4",
   "metadata": {},
   "outputs": [],
   "source": [
    "len(X_train_)"
   ]
  },
  {
   "cell_type": "code",
   "execution_count": null,
   "id": "2e5dac95-b4f0-4672-b695-b6a13e579e64",
   "metadata": {},
   "outputs": [],
   "source": [
    "len(y_train_)"
   ]
  },
  {
   "cell_type": "code",
   "execution_count": null,
   "id": "8a0b2652-67eb-464a-a4dd-87b20dfc09d2",
   "metadata": {},
   "outputs": [],
   "source": [
    "X_test_ = X_test[X_test.outlet_code == \"outlet_code_3\"]\n",
    "y_test_ = y_test[X_test.outlet_code == \"outlet_code_3\"]"
   ]
  },
  {
   "cell_type": "code",
   "execution_count": null,
   "id": "28d973d4-3627-42fa-8d57-aac6271f02fa",
   "metadata": {},
   "outputs": [],
   "source": [
    "len(X_test_)"
   ]
  },
  {
   "cell_type": "code",
   "execution_count": null,
   "id": "36029ba6-6dfe-462b-adb2-fa2e3b23b0f2",
   "metadata": {},
   "outputs": [],
   "source": [
    "len(y_test_)"
   ]
  },
  {
   "cell_type": "code",
   "execution_count": null,
   "id": "0d71eac3-d45a-43ec-b539-d230e43e5097",
   "metadata": {},
   "outputs": [],
   "source": [
    "X_train_.drop(\"outlet_code\", axis=1, inplace=True)"
   ]
  },
  {
   "cell_type": "code",
   "execution_count": null,
   "id": "7afd3db5-f4c3-41fc-816b-69d95ce7d254",
   "metadata": {},
   "outputs": [],
   "source": [
    "X_test_.drop(\"outlet_code\", axis=1, inplace=True)"
   ]
  },
  {
   "cell_type": "code",
   "execution_count": null,
   "id": "f86d5b09-c43d-4745-b3b4-561b1c92bb9f",
   "metadata": {},
   "outputs": [],
   "source": [
    "X_train_.shape"
   ]
  },
  {
   "cell_type": "code",
   "execution_count": null,
   "id": "90d6b2c8-90dd-4b9b-a873-32e5adda41a7",
   "metadata": {},
   "outputs": [],
   "source": [
    "X_test_"
   ]
  },
  {
   "cell_type": "code",
   "execution_count": null,
   "id": "4bcdaeb8-dd61-4b31-8671-9f698ca78ee4",
   "metadata": {},
   "outputs": [],
   "source": [
    "X_test_.shape"
   ]
  },
  {
   "cell_type": "code",
   "execution_count": null,
   "id": "ff5f49d9-9dbc-46f4-bd35-ae710468cbfb",
   "metadata": {},
   "outputs": [],
   "source": [
    "X_train_.dtypes"
   ]
  },
  {
   "cell_type": "code",
   "execution_count": null,
   "id": "9e05d7fb-8863-481f-bef5-a1e543b6369c",
   "metadata": {},
   "outputs": [],
   "source": [
    "reg.fit(X_train_, y_train_)"
   ]
  },
  {
   "cell_type": "code",
   "execution_count": null,
   "id": "3162945f-8590-4294-912f-6f00a1475aa6",
   "metadata": {},
   "outputs": [],
   "source": [
    "reg.predict(X_test_)"
   ]
  },
  {
   "cell_type": "code",
   "execution_count": null,
   "id": "746331ec-ca3d-4da4-87b7-95e1db6704a3",
   "metadata": {},
   "outputs": [],
   "source": [
    "y_test_"
   ]
  },
  {
   "cell_type": "code",
   "execution_count": null,
   "id": "17d9f4bf-98ca-4cc2-baa6-9f4c44e09035",
   "metadata": {},
   "outputs": [],
   "source": [
    "sns.lineplot(y = reg.predict(X_test_), x=y_test_.index)\n",
    "sns.lineplot(y_test_)"
   ]
  },
  {
   "cell_type": "code",
   "execution_count": null,
   "id": "38847eab-b460-46a5-a1a1-306b4668295b",
   "metadata": {},
   "outputs": [],
   "source": []
  }
 ],
 "metadata": {
  "kernelspec": {
   "display_name": "Python 3 (ipykernel)",
   "language": "python",
   "name": "python3"
  },
  "language_info": {
   "codemirror_mode": {
    "name": "ipython",
    "version": 3
   },
   "file_extension": ".py",
   "mimetype": "text/x-python",
   "name": "python",
   "nbconvert_exporter": "python",
   "pygments_lexer": "ipython3",
   "version": "3.10.13"
  }
 },
 "nbformat": 4,
 "nbformat_minor": 5
}
